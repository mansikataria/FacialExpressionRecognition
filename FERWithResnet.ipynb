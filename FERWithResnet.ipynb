{
  "nbformat": 4,
  "nbformat_minor": 0,
  "metadata": {
    "accelerator": "GPU",
    "colab": {
      "name": "FERWithResnet.ipynb",
      "provenance": [],
      "collapsed_sections": [],
      "machine_shape": "hm",
      "authorship_tag": "ABX9TyNpeRcwPqkoXYmIdRlH3QgC",
      "include_colab_link": true
    },
    "kernelspec": {
      "display_name": "Python 3",
      "name": "python3"
    },
    "language_info": {
      "name": "python"
    }
  },
  "cells": [
    {
      "cell_type": "markdown",
      "metadata": {
        "id": "view-in-github",
        "colab_type": "text"
      },
      "source": [
        "<a href=\"https://colab.research.google.com/github/mansikataria/FacialExpressionRecognition/blob/main/FERWithResnet.ipynb\" target=\"_parent\"><img src=\"https://colab.research.google.com/assets/colab-badge.svg\" alt=\"Open In Colab\"/></a>"
      ]
    },
    {
      "cell_type": "code",
      "metadata": {
        "colab": {
          "base_uri": "https://localhost:8080/"
        },
        "id": "PhI5JwEsprsi",
        "outputId": "1f36d213-8c33-4049-ba74-dc539d777edb"
      },
      "source": [
        "!pip install watermark\n"
      ],
      "execution_count": 1,
      "outputs": [
        {
          "output_type": "stream",
          "text": [
            "Collecting watermark\n",
            "  Downloading https://files.pythonhosted.org/packages/73/71/8a7c1c1672bc20448ef8b96652f7d332bd680a4b2e873f50ea1e4ede81ca/watermark-2.2.0-py2.py3-none-any.whl\n",
            "Collecting importlib-metadata<3.0; python_version < \"3.8\"\n",
            "  Downloading https://files.pythonhosted.org/packages/98/b8/8ec57a8ef46fbe7f185318c7ff7df9a06c9df451d9a59a067bfa851bb828/importlib_metadata-2.1.1-py2.py3-none-any.whl\n",
            "Requirement already satisfied: ipython in /usr/local/lib/python3.7/dist-packages (from watermark) (5.5.0)\n",
            "Requirement already satisfied: zipp>=0.5 in /usr/local/lib/python3.7/dist-packages (from importlib-metadata<3.0; python_version < \"3.8\"->watermark) (3.5.0)\n",
            "Requirement already satisfied: pexpect; sys_platform != \"win32\" in /usr/local/lib/python3.7/dist-packages (from ipython->watermark) (4.8.0)\n",
            "Requirement already satisfied: traitlets>=4.2 in /usr/local/lib/python3.7/dist-packages (from ipython->watermark) (5.0.5)\n",
            "Requirement already satisfied: pickleshare in /usr/local/lib/python3.7/dist-packages (from ipython->watermark) (0.7.5)\n",
            "Requirement already satisfied: simplegeneric>0.8 in /usr/local/lib/python3.7/dist-packages (from ipython->watermark) (0.8.1)\n",
            "Requirement already satisfied: decorator in /usr/local/lib/python3.7/dist-packages (from ipython->watermark) (4.4.2)\n",
            "Requirement already satisfied: pygments in /usr/local/lib/python3.7/dist-packages (from ipython->watermark) (2.6.1)\n",
            "Requirement already satisfied: prompt-toolkit<2.0.0,>=1.0.4 in /usr/local/lib/python3.7/dist-packages (from ipython->watermark) (1.0.18)\n",
            "Requirement already satisfied: setuptools>=18.5 in /usr/local/lib/python3.7/dist-packages (from ipython->watermark) (57.2.0)\n",
            "Requirement already satisfied: ptyprocess>=0.5 in /usr/local/lib/python3.7/dist-packages (from pexpect; sys_platform != \"win32\"->ipython->watermark) (0.7.0)\n",
            "Requirement already satisfied: ipython-genutils in /usr/local/lib/python3.7/dist-packages (from traitlets>=4.2->ipython->watermark) (0.2.0)\n",
            "Requirement already satisfied: wcwidth in /usr/local/lib/python3.7/dist-packages (from prompt-toolkit<2.0.0,>=1.0.4->ipython->watermark) (0.2.5)\n",
            "Requirement already satisfied: six>=1.9.0 in /usr/local/lib/python3.7/dist-packages (from prompt-toolkit<2.0.0,>=1.0.4->ipython->watermark) (1.15.0)\n",
            "Installing collected packages: importlib-metadata, watermark\n",
            "  Found existing installation: importlib-metadata 4.6.1\n",
            "    Uninstalling importlib-metadata-4.6.1:\n",
            "      Successfully uninstalled importlib-metadata-4.6.1\n",
            "Successfully installed importlib-metadata-2.1.1 watermark-2.2.0\n"
          ],
          "name": "stdout"
        }
      ]
    },
    {
      "cell_type": "code",
      "metadata": {
        "colab": {
          "base_uri": "https://localhost:8080/"
        },
        "id": "j_3YS-M6CEHO",
        "outputId": "6395509b-352e-44ba-fcdf-593a164eb47c"
      },
      "source": [
        "%load_ext watermark\n",
        "%watermark -a 'Mansi Kataria' -v -p torch"
      ],
      "execution_count": 2,
      "outputs": [
        {
          "output_type": "stream",
          "text": [
            "Author: Mansi Kataria\n",
            "\n",
            "Python implementation: CPython\n",
            "Python version       : 3.7.11\n",
            "IPython version      : 5.5.0\n",
            "\n",
            "torch: 1.9.0+cu102\n",
            "\n"
          ],
          "name": "stdout"
        }
      ]
    },
    {
      "cell_type": "markdown",
      "metadata": {
        "id": "BTkthF3lq_jb"
      },
      "source": [
        "Reading the FER2013 dataset from the CSV"
      ]
    },
    {
      "cell_type": "code",
      "metadata": {
        "id": "fONT-0zjlfVN"
      },
      "source": [
        "import sys\n",
        "import pandas as pd\n",
        "import seaborn as sns\n",
        "import matplotlib.pyplot as plt\n",
        "import numpy as np\n",
        "\n",
        "\n",
        "import tensorflow as tf\n",
        "from tensorflow import keras\n",
        "from tensorflow.keras.utils import to_categorical"
      ],
      "execution_count": 3,
      "outputs": []
    },
    {
      "cell_type": "code",
      "metadata": {
        "colab": {
          "base_uri": "https://localhost:8080/"
        },
        "id": "lryVKjgywNoj",
        "outputId": "f2095730-2107-4bf3-9cfc-41e5bea75cc1"
      },
      "source": [
        "from google.colab import drive\n",
        "drive.mount('/content/drive', force_remount=True)"
      ],
      "execution_count": 4,
      "outputs": [
        {
          "output_type": "stream",
          "text": [
            "Mounted at /content/drive\n"
          ],
          "name": "stdout"
        }
      ]
    },
    {
      "cell_type": "code",
      "metadata": {
        "colab": {
          "base_uri": "https://localhost:8080/"
        },
        "id": "uQdCQaODn3ev",
        "outputId": "2f526724-b7ed-48e9-a016-5b3d1aecf055"
      },
      "source": [
        "BASE_PATH = '/content/drive/MyDrive/Colab Notebooks'\n",
        "sys.path.insert(0,BASE_PATH)\n",
        "\n",
        "FER2013_PATH_FILE_NAME = 'fer2013.csv'\n",
        "\n",
        "data = pd.read_csv(BASE_PATH + '/' + FER2013_PATH_FILE_NAME)\n",
        "\n",
        "print(data)\n"
      ],
      "execution_count": 5,
      "outputs": [
        {
          "output_type": "stream",
          "text": [
            "       emotion                                             pixels        Usage\n",
            "0            0  70 80 82 72 58 58 60 63 54 58 60 48 89 115 121...     Training\n",
            "1            0  151 150 147 155 148 133 111 140 170 174 182 15...     Training\n",
            "2            2  231 212 156 164 174 138 161 173 182 200 106 38...     Training\n",
            "3            4  24 32 36 30 32 23 19 20 30 41 21 22 32 34 21 1...     Training\n",
            "4            6  4 0 0 0 0 0 0 0 0 0 0 0 3 15 23 28 48 50 58 84...     Training\n",
            "...        ...                                                ...          ...\n",
            "35882        6  50 36 17 22 23 29 33 39 34 37 37 37 39 43 48 5...  PrivateTest\n",
            "35883        3  178 174 172 173 181 188 191 194 196 199 200 20...  PrivateTest\n",
            "35884        0  17 17 16 23 28 22 19 17 25 26 20 24 31 19 27 9...  PrivateTest\n",
            "35885        3  30 28 28 29 31 30 42 68 79 81 77 67 67 71 63 6...  PrivateTest\n",
            "35886        2  19 13 14 12 13 16 21 33 50 57 71 84 97 108 122...  PrivateTest\n",
            "\n",
            "[35887 rows x 3 columns]\n"
          ],
          "name": "stdout"
        }
      ]
    },
    {
      "cell_type": "code",
      "metadata": {
        "id": "NsN9UvP_kmgn"
      },
      "source": [
        "emotion_map = {0: 'Angry', 1: 'Digust', 2: 'Fear', 3: 'Happy', 4: 'Sad', 5: 'Surprise', 6: 'Neutral'}"
      ],
      "execution_count": 6,
      "outputs": []
    },
    {
      "cell_type": "markdown",
      "metadata": {
        "id": "gCKCy-DfkLHa"
      },
      "source": [
        "Visualizations on the data:\n",
        "\n",
        "1. Let's see the class distribution"
      ]
    },
    {
      "cell_type": "code",
      "metadata": {
        "colab": {
          "base_uri": "https://localhost:8080/",
          "height": 265
        },
        "id": "ZXgvEKIMkRH5",
        "outputId": "070da451-aa97-4074-bce0-662f36b6106b"
      },
      "source": [
        "emotion_counts = data['emotion'].value_counts(sort=False).reset_index()\n",
        "emotion_counts.columns = ['emotion', 'number']\n",
        "emotion_counts['emotion'] = emotion_counts['emotion'].map(emotion_map)\n",
        "emotion_counts"
      ],
      "execution_count": 7,
      "outputs": [
        {
          "output_type": "execute_result",
          "data": {
            "text/html": [
              "<div>\n",
              "<style scoped>\n",
              "    .dataframe tbody tr th:only-of-type {\n",
              "        vertical-align: middle;\n",
              "    }\n",
              "\n",
              "    .dataframe tbody tr th {\n",
              "        vertical-align: top;\n",
              "    }\n",
              "\n",
              "    .dataframe thead th {\n",
              "        text-align: right;\n",
              "    }\n",
              "</style>\n",
              "<table border=\"1\" class=\"dataframe\">\n",
              "  <thead>\n",
              "    <tr style=\"text-align: right;\">\n",
              "      <th></th>\n",
              "      <th>emotion</th>\n",
              "      <th>number</th>\n",
              "    </tr>\n",
              "  </thead>\n",
              "  <tbody>\n",
              "    <tr>\n",
              "      <th>0</th>\n",
              "      <td>Angry</td>\n",
              "      <td>4953</td>\n",
              "    </tr>\n",
              "    <tr>\n",
              "      <th>1</th>\n",
              "      <td>Digust</td>\n",
              "      <td>547</td>\n",
              "    </tr>\n",
              "    <tr>\n",
              "      <th>2</th>\n",
              "      <td>Fear</td>\n",
              "      <td>5121</td>\n",
              "    </tr>\n",
              "    <tr>\n",
              "      <th>3</th>\n",
              "      <td>Happy</td>\n",
              "      <td>8989</td>\n",
              "    </tr>\n",
              "    <tr>\n",
              "      <th>4</th>\n",
              "      <td>Sad</td>\n",
              "      <td>6077</td>\n",
              "    </tr>\n",
              "    <tr>\n",
              "      <th>5</th>\n",
              "      <td>Surprise</td>\n",
              "      <td>4002</td>\n",
              "    </tr>\n",
              "    <tr>\n",
              "      <th>6</th>\n",
              "      <td>Neutral</td>\n",
              "      <td>6198</td>\n",
              "    </tr>\n",
              "  </tbody>\n",
              "</table>\n",
              "</div>"
            ],
            "text/plain": [
              "    emotion  number\n",
              "0     Angry    4953\n",
              "1    Digust     547\n",
              "2      Fear    5121\n",
              "3     Happy    8989\n",
              "4       Sad    6077\n",
              "5  Surprise    4002\n",
              "6   Neutral    6198"
            ]
          },
          "metadata": {
            "tags": []
          },
          "execution_count": 7
        }
      ]
    },
    {
      "cell_type": "markdown",
      "metadata": {
        "id": "s_nMC2s_n-CM"
      },
      "source": [
        "Plotting a bar graph with these values:"
      ]
    },
    {
      "cell_type": "code",
      "metadata": {
        "colab": {
          "base_uri": "https://localhost:8080/",
          "height": 349
        },
        "id": "EWUBOs4nn8kS",
        "outputId": "2a3f0e6a-d74c-42fe-fefa-e3583f620393"
      },
      "source": [
        "plt.figure(figsize=(6,4))\n",
        "sns.barplot(emotion_counts.emotion, emotion_counts.number)\n",
        "plt.title('Class Distribution')\n",
        "plt.ylabel('Number', fontsize=10)\n",
        "plt.xlabel('Emotion', fontsize=10)\n",
        "plt.show()"
      ],
      "execution_count": 8,
      "outputs": [
        {
          "output_type": "stream",
          "text": [
            "/usr/local/lib/python3.7/dist-packages/seaborn/_decorators.py:43: FutureWarning: Pass the following variables as keyword args: x, y. From version 0.12, the only valid positional argument will be `data`, and passing other arguments without an explicit keyword will result in an error or misinterpretation.\n",
            "  FutureWarning\n"
          ],
          "name": "stderr"
        },
        {
          "output_type": "display_data",
          "data": {
            "image/png": "[encoded data removed]",
            "text/plain": [
              "<Figure size 432x288 with 1 Axes>"
            ]
          },
          "metadata": {
            "tags": [],
            "needs_background": "light"
          }
        }
      ]
    },
    {
      "cell_type": "markdown",
      "metadata": {
        "id": "ck3zC0WOpeME"
      },
      "source": [
        "Plotting some sample images:"
      ]
    },
    {
      "cell_type": "code",
      "metadata": {
        "colab": {
          "base_uri": "https://localhost:8080/",
          "height": 810
        },
        "id": "DI1rVG7MpjoQ",
        "outputId": "fb4b9b81-0e1c-4db4-b5b6-320525a56302"
      },
      "source": [
        "def row2Image(row):\n",
        "  pixels, emotions = row['pixels'] , emotion_map[row['emotion']]\n",
        "  img = np.array(pixels.split())\n",
        "  img = img.reshape((48, 48))\n",
        "  image = np.zeros((48, 48, 3))\n",
        "  image[:,:, 0] = img\n",
        "  image[:,:, 1] = img\n",
        "  image[:,:, 2] = img\n",
        "  return np.array([image.astype(np.uint8), emotions])\n",
        "\n",
        "\n",
        "\n",
        "plt.figure(0, figsize=(16, 10))\n",
        "for i in range(1, 8):\n",
        "  face = data[data['emotion'] == i-1].iloc[0]\n",
        "  img = row2Image(face)\n",
        "  plt.subplot(2,4,i)\n",
        "  plt.imshow(img[0])\n",
        "  plt.title(img[1])\n",
        "\n",
        "plt.show()"
      ],
      "execution_count": 9,
      "outputs": [
        {
          "output_type": "stream",
          "text": [
            "/usr/local/lib/python3.7/dist-packages/ipykernel_launcher.py:9: VisibleDeprecationWarning: Creating an ndarray from ragged nested sequences (which is a list-or-tuple of lists-or-tuples-or ndarrays with different lengths or shapes) is deprecated. If you meant to do this, you must specify 'dtype=object' when creating the ndarray\n",
            "  if __name__ == '__main__':\n",
            "/usr/local/lib/python3.7/dist-packages/ipykernel_launcher.py:9: VisibleDeprecationWarning: Creating an ndarray from ragged nested sequences (which is a list-or-tuple of lists-or-tuples-or ndarrays with different lengths or shapes) is deprecated. If you meant to do this, you must specify 'dtype=object' when creating the ndarray\n",
            "  if __name__ == '__main__':\n",
            "/usr/local/lib/python3.7/dist-packages/ipykernel_launcher.py:9: VisibleDeprecationWarning: Creating an ndarray from ragged nested sequences (which is a list-or-tuple of lists-or-tuples-or ndarrays with different lengths or shapes) is deprecated. If you meant to do this, you must specify 'dtype=object' when creating the ndarray\n",
            "  if __name__ == '__main__':\n",
            "/usr/local/lib/python3.7/dist-packages/ipykernel_launcher.py:9: VisibleDeprecationWarning: Creating an ndarray from ragged nested sequences (which is a list-or-tuple of lists-or-tuples-or ndarrays with different lengths or shapes) is deprecated. If you meant to do this, you must specify 'dtype=object' when creating the ndarray\n",
            "  if __name__ == '__main__':\n",
            "/usr/local/lib/python3.7/dist-packages/ipykernel_launcher.py:9: VisibleDeprecationWarning: Creating an ndarray from ragged nested sequences (which is a list-or-tuple of lists-or-tuples-or ndarrays with different lengths or shapes) is deprecated. If you meant to do this, you must specify 'dtype=object' when creating the ndarray\n",
            "  if __name__ == '__main__':\n",
            "/usr/local/lib/python3.7/dist-packages/ipykernel_launcher.py:9: VisibleDeprecationWarning: Creating an ndarray from ragged nested sequences (which is a list-or-tuple of lists-or-tuples-or ndarrays with different lengths or shapes) is deprecated. If you meant to do this, you must specify 'dtype=object' when creating the ndarray\n",
            "  if __name__ == '__main__':\n",
            "/usr/local/lib/python3.7/dist-packages/ipykernel_launcher.py:9: VisibleDeprecationWarning: Creating an ndarray from ragged nested sequences (which is a list-or-tuple of lists-or-tuples-or ndarrays with different lengths or shapes) is deprecated. If you meant to do this, you must specify 'dtype=object' when creating the ndarray\n",
            "  if __name__ == '__main__':\n"
          ],
          "name": "stderr"
        },
        {
          "output_type": "display_data",
          "data": {
            "image/png": "[encoded data removed]",
            "text/plain": [
              "<Figure size 1152x720 with 7 Axes>"
            ]
          },
          "metadata": {
            "tags": [],
            "needs_background": "light"
          }
        }
      ]
    },
    {
      "cell_type": "markdown",
      "metadata": {
        "id": "PdH1wjABzNSU"
      },
      "source": [
        "Splitting data into train, test and validation sets:\n"
      ]
    },
    {
      "cell_type": "code",
      "metadata": {
        "colab": {
          "base_uri": "https://localhost:8080/"
        },
        "id": "qslc4y_6zYEs",
        "outputId": "17ec4e09-2e26-4042-8bfc-6135d88366cc"
      },
      "source": [
        "data_train = data[data['Usage'] == 'Training'].copy()\n",
        "data_val = data[data['Usage'] == 'PublicTest'].copy() \n",
        "data_test = data[data['Usage'] == 'PrivateTest'].copy()\n",
        "\n",
        "print(\"Train Shape: {}\\nTest Shape: {}\\nValidation Shape: {}\".format(data_train.shape, data_test.shape, data_val.shape));"
      ],
      "execution_count": 10,
      "outputs": [
        {
          "output_type": "stream",
          "text": [
            "Train Shape: (28709, 3)\n",
            "Test Shape: (3589, 3)\n",
            "Validation Shape: (3589, 3)\n"
          ],
          "name": "stdout"
        }
      ]
    },
    {
      "cell_type": "code",
      "metadata": {
        "colab": {
          "base_uri": "https://localhost:8080/",
          "height": 513
        },
        "id": "-Hk7b8eH4Z_o",
        "outputId": "7d133941-f36b-42b1-ce82-eed1ff461f5d"
      },
      "source": [
        "# barplot class distribution of train, val and test\n",
        "emotion_labels = ['Angry', 'Disgust', 'Fear', 'Happy', 'Sad', 'Surprise', 'Neutral']\n",
        "\n",
        "def setup_axe(axe,df,title):\n",
        "    df['emotion'].value_counts(sort=False).plot(ax=axe, kind='bar', rot=0)\n",
        "    axe.set_xticklabels(emotion_labels)\n",
        "    axe.set_xlabel(\"Emotions\")\n",
        "    axe.set_ylabel(\"Number\")\n",
        "    axe.set_title(title)\n",
        "   \n",
        "fig, axes = plt.subplots(1,3, figsize=(20,8), sharey=True)\n",
        "setup_axe(axes[0],data_train,'train')\n",
        "setup_axe(axes[1],data_val,'validation')\n",
        "setup_axe(axes[2],data_test,'test')\n",
        "plt.show()"
      ],
      "execution_count": 11,
      "outputs": [
        {
          "output_type": "display_data",
          "data": {
            "image/png": "[encoded data removed]",
            "text/plain": [
              "<Figure size 1440x576 with 3 Axes>"
            ]
          },
          "metadata": {
            "tags": [],
            "needs_background": "light"
          }
        }
      ]
    },
    {
      "cell_type": "code",
      "metadata": {
        "id": "GkQd0rSJ6NR1"
      },
      "source": [
        "#initilize parameters\n",
        "num_classes = 7 \n",
        "width, height = 48, 48\n",
        "num_epochs = 50\n",
        "batch_size = 64\n",
        "num_features = 64"
      ],
      "execution_count": 12,
      "outputs": []
    },
    {
      "cell_type": "code",
      "metadata": {
        "id": "jMyNImyf6oBY",
        "colab": {
          "base_uri": "https://localhost:8080/"
        },
        "outputId": "095b6e26-fdd4-4b41-8f81-c6549340ee1f"
      },
      "source": [
        "from skimage.transform import resize\n",
        "\n",
        "# Size of the images\n",
        "img_height, img_width = 197, 197\n",
        "\n",
        "#image preprocessing:\n",
        "def preprocess(df):\n",
        "  #Convert string to int\n",
        "  # df['pixels'] = df['pixels'].apply(lambda pixel_sequence: [int(pixel) for pixel in pixel_sequence.split()])\n",
        "  # #reshape and normalize\n",
        "  # data_X = np.array(df['pixels'].tolist(), dtype='float32').reshape(-1,width, height,1)\n",
        "  print(df.shape)\n",
        "  pixels = df['pixels'].tolist()\n",
        "  images = np.empty((len(df), 48, 48, 3))\n",
        "  i = 0\n",
        "  for pixel_sequence in pixels:\n",
        "        single_image = [float(pixel) for pixel in pixel_sequence.split(' ')]  # Extraction of each single\n",
        "        single_image = np.asarray(single_image).reshape(48, 48) # Dimension: 48x48\n",
        "        # single_image = resize(single_image, (img_height, img_width), order = 3, mode = 'constant') # Dimension: 139x139x3 (Bicubic)\n",
        "        ret = np.empty((48, 48, 3))  \n",
        "        ret[:, :, 0] = single_image\n",
        "        ret[:, :, 1] = single_image\n",
        "        ret[:, :, 2] = single_image\n",
        "        images[i, :, :, :] = ret\n",
        "        i += 1\n",
        "  # images = preprocess_input(images)\n",
        "  labels = to_categorical(df['emotion'], num_classes)\n",
        "  print(\"X shape: {},  Y shape: {}\".format(images.shape, labels.shape))\n",
        "  return images, labels    \n",
        "  # data_Y = df['emotion'] \n",
        "  # return data_X, data_Y\n",
        "\n",
        "print('Preprocessing Training Data...')\n",
        "data_train_X, data_train_Y = preprocess(data_train)\n",
        "print('Preprocessing Testing Data...')\n",
        "data_test_X, data_test_Y = preprocess(data_test)\n",
        "print('Preprocessing Validation Data...')\n",
        "data_val_X, data_val_Y = preprocess(data_val)\n"
      ],
      "execution_count": 13,
      "outputs": [
        {
          "output_type": "stream",
          "text": [
            "Preprocessing Training Data...\n",
            "(28709, 3)\n",
            "X shape: (28709, 48, 48, 3),  Y shape: (28709, 7)\n",
            "Preprocessing Testing Data...\n",
            "(3589, 3)\n",
            "X shape: (3589, 48, 48, 3),  Y shape: (3589, 7)\n",
            "Preprocessing Validation Data...\n",
            "(3589, 3)\n",
            "X shape: (3589, 48, 48, 3),  Y shape: (3589, 7)\n"
          ],
          "name": "stdout"
        }
      ]
    },
    {
      "cell_type": "markdown",
      "metadata": {
        "id": "_snoAExpAZjM"
      },
      "source": [
        "Visualizing Data Augmentation"
      ]
    },
    {
      "cell_type": "code",
      "metadata": {
        "colab": {
          "base_uri": "https://localhost:8080/",
          "height": 518
        },
        "id": "8fGsluWN1Ons",
        "outputId": "5976d6e5-138a-403b-bafb-a5c42e984a22"
      },
      "source": [
        "#Add some more data using augmentation\n",
        "from keras.preprocessing.image import ImageDataGenerator\n",
        "data_generator_test = ImageDataGenerator(\n",
        "                        width_shift_range=0.1,\n",
        "                        height_shift_range=0.1,\n",
        "                        zoom_range=-.1,\n",
        "                        horizontal_flip=True)\n",
        "\n",
        "fig = plt.figure()\n",
        "\n",
        "img = data_train_X[:1][0]\n",
        "# result = np.concatenate([img,img,img], axis = -1)\n",
        "plt.imshow(img.astype('uint8'))\n",
        "plt.show()\n",
        "\n",
        "data_generator_test.fit(data_train_X[:1])\n",
        "\n",
        "i=0\n",
        "for img_batch in data_generator_test.flow(data_train_X[:1], batch_size=4):\n",
        "    for image in img_batch:\n",
        "        plt.subplot(2, 2, i+1)\n",
        "        # result = np.concatenate([image,image,image], axis = -1)\n",
        "        plt.imshow(image.astype('uint8'))\n",
        "        i=i+1    \n",
        "    if i >= 4:\n",
        "          break\n",
        "    \n",
        "plt.show()\n"
      ],
      "execution_count": 14,
      "outputs": [
        {
          "output_type": "display_data",
          "data": {
            "image/png": "[encoded data removed]",
            "text/plain": [
              "<Figure size 432x288 with 1 Axes>"
            ]
          },
          "metadata": {
            "tags": [],
            "needs_background": "light"
          }
        },
        {
          "output_type": "display_data",
          "data": {
            "image/png": "[encoded data removed]",
            "text/plain": [
              "<Figure size 432x288 with 4 Axes>"
            ]
          },
          "metadata": {
            "tags": [],
            "needs_background": "light"
          }
        }
      ]
    },
    {
      "cell_type": "markdown",
      "metadata": {
        "id": "oTXY5JGsAy7M"
      },
      "source": [
        "Normalize the pixels\n"
      ]
    },
    {
      "cell_type": "code",
      "metadata": {
        "id": "1VKrBASmA1Ag"
      },
      "source": [
        "data_train_X /= 255\n",
        "data_val_X /= 255\n",
        "data_test_X /= 255"
      ],
      "execution_count": 15,
      "outputs": []
    },
    {
      "cell_type": "code",
      "metadata": {
        "colab": {
          "base_uri": "https://localhost:8080/"
        },
        "id": "tdzQ7BEG4Aln",
        "outputId": "505a84eb-0162-4613-f88c-7969f1f7958d"
      },
      "source": [
        "print(data_train_X[:1])\n",
        "print(data_train_Y[:5])\n"
      ],
      "execution_count": 16,
      "outputs": [
        {
          "output_type": "stream",
          "text": [
            "[[[[0.2745098  0.2745098  0.2745098 ]\n",
            "   [0.31372549 0.31372549 0.31372549]\n",
            "   [0.32156863 0.32156863 0.32156863]\n",
            "   ...\n",
            "   [0.20392157 0.20392157 0.20392157]\n",
            "   [0.16862745 0.16862745 0.16862745]\n",
            "   [0.16078431 0.16078431 0.16078431]]\n",
            "\n",
            "  [[0.25490196 0.25490196 0.25490196]\n",
            "   [0.23921569 0.23921569 0.23921569]\n",
            "   [0.22745098 0.22745098 0.22745098]\n",
            "   ...\n",
            "   [0.21960784 0.21960784 0.21960784]\n",
            "   [0.20392157 0.20392157 0.20392157]\n",
            "   [0.17254902 0.17254902 0.17254902]]\n",
            "\n",
            "  [[0.19607843 0.19607843 0.19607843]\n",
            "   [0.16862745 0.16862745 0.16862745]\n",
            "   [0.21176471 0.21176471 0.21176471]\n",
            "   ...\n",
            "   [0.19215686 0.19215686 0.19215686]\n",
            "   [0.21960784 0.21960784 0.21960784]\n",
            "   [0.18431373 0.18431373 0.18431373]]\n",
            "\n",
            "  ...\n",
            "\n",
            "  [[0.35686275 0.35686275 0.35686275]\n",
            "   [0.25490196 0.25490196 0.25490196]\n",
            "   [0.16470588 0.16470588 0.16470588]\n",
            "   ...\n",
            "   [0.28235294 0.28235294 0.28235294]\n",
            "   [0.21960784 0.21960784 0.21960784]\n",
            "   [0.16862745 0.16862745 0.16862745]]\n",
            "\n",
            "  [[0.30196078 0.30196078 0.30196078]\n",
            "   [0.32156863 0.32156863 0.32156863]\n",
            "   [0.30980392 0.30980392 0.30980392]\n",
            "   ...\n",
            "   [0.41176471 0.41176471 0.41176471]\n",
            "   [0.2745098  0.2745098  0.2745098 ]\n",
            "   [0.18039216 0.18039216 0.18039216]]\n",
            "\n",
            "  [[0.30196078 0.30196078 0.30196078]\n",
            "   [0.28235294 0.28235294 0.28235294]\n",
            "   [0.32941176 0.32941176 0.32941176]\n",
            "   ...\n",
            "   [0.41568627 0.41568627 0.41568627]\n",
            "   [0.42745098 0.42745098 0.42745098]\n",
            "   [0.32156863 0.32156863 0.32156863]]]]\n",
            "[[1. 0. 0. 0. 0. 0. 0.]\n",
            " [1. 0. 0. 0. 0. 0. 0.]\n",
            " [0. 0. 1. 0. 0. 0. 0.]\n",
            " [0. 0. 0. 0. 1. 0. 0.]\n",
            " [0. 0. 0. 0. 0. 0. 1.]]\n"
          ],
          "name": "stdout"
        }
      ]
    },
    {
      "cell_type": "code",
      "metadata": {
        "colab": {
          "base_uri": "https://localhost:8080/"
        },
        "id": "MPGS-QPp474x",
        "outputId": "4d4299e9-bcd4-4fc5-82f0-d17f34edbac2"
      },
      "source": [
        "data_train_X[:2].shape"
      ],
      "execution_count": 17,
      "outputs": [
        {
          "output_type": "execute_result",
          "data": {
            "text/plain": [
              "(2, 48, 48, 3)"
            ]
          },
          "metadata": {
            "tags": []
          },
          "execution_count": 17
        }
      ]
    },
    {
      "cell_type": "markdown",
      "metadata": {
        "id": "7YTsWiUA5Bbc"
      },
      "source": [
        "Building a CNN Model:"
      ]
    },
    {
      "cell_type": "code",
      "metadata": {
        "id": "ugZa_eS75Dqu"
      },
      "source": [
        "from tensorflow.keras.models import *\n",
        "from tensorflow.keras.layers import Dense, Conv2D, Flatten,  MaxPooling2D, BatchNormalization, Activation #, Dropout\n",
        "from keras.optimizers import Adam, SGD\n",
        "from keras.callbacks import TensorBoard, LearningRateScheduler, ReduceLROnPlateau, EarlyStopping, Callback\n",
        "# from keras.regularizers import l2"
      ],
      "execution_count": 18,
      "outputs": []
    },
    {
      "cell_type": "code",
      "metadata": {
        "colab": {
          "base_uri": "https://localhost:8080/",
          "height": 387
        },
        "id": "5z3dOguT5mYb",
        "outputId": "5ed9ceef-9146-42e0-ce35-54c351733088"
      },
      "source": [
        "#create model\n",
        "model = tf.keras.applications.ResNet50(\n",
        "    include_top=False,\n",
        "    weights=\"imagenet\",\n",
        "    input_tensor=None,\n",
        "    input_shape=(48, 48, 3),\n",
        "    pooling=\"max\"\n",
        ")\n",
        "# add new classifier layers\n",
        "x = model.output\n",
        "x = Flatten()(x)\n",
        "x = Dense(1024)(x)\n",
        "x = Activation('relu')(x)\n",
        "x = Dense(num_classes)(x)\n",
        "predictions =  Activation('softmax')(x)\n",
        "model = Model(inputs = model.input, outputs = predictions)\n",
        "\n",
        "# flat1 = Flatten()(model.layers[-1].output)\n",
        "# class1 = Dense(1024, activation='relu')(flat1)\n",
        "# output = Dense(7, activation='softmax')(class1)\n",
        "\n",
        "# define new model\n",
        "# model = Model(inputs=model.inputs, outputs=output)\n",
        "\n",
        "#model compile specifics\n",
        "model.compile(loss=tf.keras.losses.CategoricalCrossentropy(), \n",
        "              optimizer=SGD(learning_rate=0.001, momentum=0.0001),\n",
        "              metrics=['categorical_accuracy'])\n",
        "\n",
        "# This callback writes a log for TensorBoard, which allows you to visualize dynamic graphs of your training and test metrics, \n",
        "# tensorboard_all_layers = TensorBoard(\n",
        "#     log_dir         = BASE_PATH  + '/logs_all_layers',\n",
        "#     histogram_freq  = 0,\n",
        "#     write_graph     = True,\n",
        "#     write_grads     = False,\n",
        "#     write_images    = True)\n",
        "\n",
        "# early_stop = EarlyStopping(\n",
        "# \tmonitor \t= 'val_loss',\n",
        "# \tpatience \t= 10,\n",
        "# \tmode \t\t= 'auto')\n",
        "\n",
        "\n",
        "model.summary()"
      ],
      "execution_count": 30,
      "outputs": [
        {
          "output_type": "error",
          "ename": "ValueError",
          "evalue": "ignored",
          "traceback": [
            "\u001b[0;31m---------------------------------------------------------------------------\u001b[0m",
            "\u001b[0;31mValueError\u001b[0m                                Traceback (most recent call last)",
            "\u001b[0;32m<ipython-input-30-30d33d94ecb3>\u001b[0m in \u001b[0;36m<module>\u001b[0;34m()\u001b[0m\n\u001b[1;32m      5\u001b[0m     \u001b[0minput_tensor\u001b[0m\u001b[0;34m=\u001b[0m\u001b[0;32mNone\u001b[0m\u001b[0;34m,\u001b[0m\u001b[0;34m\u001b[0m\u001b[0;34m\u001b[0m\u001b[0m\n\u001b[1;32m      6\u001b[0m     \u001b[0minput_shape\u001b[0m\u001b[0;34m=\u001b[0m\u001b[0;34m(\u001b[0m\u001b[0;36m48\u001b[0m\u001b[0;34m,\u001b[0m \u001b[0;36m48\u001b[0m\u001b[0;34m,\u001b[0m \u001b[0;36m3\u001b[0m\u001b[0;34m)\u001b[0m\u001b[0;34m,\u001b[0m\u001b[0;34m\u001b[0m\u001b[0;34m\u001b[0m\u001b[0m\n\u001b[0;32m----> 7\u001b[0;31m     \u001b[0mpooling\u001b[0m\u001b[0;34m=\u001b[0m\u001b[0;34m\"max\"\u001b[0m\u001b[0;34m\u001b[0m\u001b[0;34m\u001b[0m\u001b[0m\n\u001b[0m\u001b[1;32m      8\u001b[0m )\n\u001b[1;32m      9\u001b[0m \u001b[0;31m# add new classifier layers\u001b[0m\u001b[0;34m\u001b[0m\u001b[0;34m\u001b[0m\u001b[0;34m\u001b[0m\u001b[0m\n",
            "\u001b[0;32m/usr/local/lib/python3.7/dist-packages/tensorflow/python/keras/applications/resnet.py\u001b[0m in \u001b[0;36mResNet50\u001b[0;34m(include_top, weights, input_tensor, input_shape, pooling, classes, **kwargs)\u001b[0m\n\u001b[1;32m    456\u001b[0m \u001b[0;34m\u001b[0m\u001b[0m\n\u001b[1;32m    457\u001b[0m   return ResNet(stack_fn, False, True, 'resnet50', include_top, weights,\n\u001b[0;32m--> 458\u001b[0;31m                 input_tensor, input_shape, pooling, classes, **kwargs)\n\u001b[0m\u001b[1;32m    459\u001b[0m \u001b[0;34m\u001b[0m\u001b[0m\n\u001b[1;32m    460\u001b[0m \u001b[0;34m\u001b[0m\u001b[0m\n",
            "\u001b[0;32m/usr/local/lib/python3.7/dist-packages/tensorflow/python/keras/applications/resnet.py\u001b[0m in \u001b[0;36mResNet\u001b[0;34m(stack_fn, preact, use_bias, model_name, include_top, weights, input_tensor, input_shape, pooling, classes, classifier_activation, **kwargs)\u001b[0m\n\u001b[1;32m    122\u001b[0m     \u001b[0;32mraise\u001b[0m \u001b[0mValueError\u001b[0m\u001b[0;34m(\u001b[0m\u001b[0;34m'Unknown argument(s): %s'\u001b[0m \u001b[0;34m%\u001b[0m \u001b[0;34m(\u001b[0m\u001b[0mkwargs\u001b[0m\u001b[0;34m,\u001b[0m\u001b[0;34m)\u001b[0m\u001b[0;34m)\u001b[0m\u001b[0;34m\u001b[0m\u001b[0;34m\u001b[0m\u001b[0m\n\u001b[1;32m    123\u001b[0m   \u001b[0;32mif\u001b[0m \u001b[0;32mnot\u001b[0m \u001b[0;34m(\u001b[0m\u001b[0mweights\u001b[0m \u001b[0;32min\u001b[0m \u001b[0;34m{\u001b[0m\u001b[0;34m'imagenet'\u001b[0m\u001b[0;34m,\u001b[0m \u001b[0;32mNone\u001b[0m\u001b[0;34m}\u001b[0m \u001b[0;32mor\u001b[0m \u001b[0mfile_io\u001b[0m\u001b[0;34m.\u001b[0m\u001b[0mfile_exists_v2\u001b[0m\u001b[0;34m(\u001b[0m\u001b[0mweights\u001b[0m\u001b[0;34m)\u001b[0m\u001b[0;34m)\u001b[0m\u001b[0;34m:\u001b[0m\u001b[0;34m\u001b[0m\u001b[0;34m\u001b[0m\u001b[0m\n\u001b[0;32m--> 124\u001b[0;31m     raise ValueError('The `weights` argument should be either '\n\u001b[0m\u001b[1;32m    125\u001b[0m                      \u001b[0;34m'`None` (random initialization), `imagenet` '\u001b[0m\u001b[0;34m\u001b[0m\u001b[0;34m\u001b[0m\u001b[0m\n\u001b[1;32m    126\u001b[0m                      \u001b[0;34m'(pre-training on ImageNet), '\u001b[0m\u001b[0;34m\u001b[0m\u001b[0;34m\u001b[0m\u001b[0m\n",
            "\u001b[0;31mValueError\u001b[0m: The `weights` argument should be either `None` (random initialization), `imagenet` (pre-training on ImageNet), or the path to the weights file to be loaded."
          ]
        }
      ]
    },
    {
      "cell_type": "code",
      "metadata": {
        "colab": {
          "base_uri": "https://localhost:8080/"
        },
        "id": "UMbvTjpSEduG",
        "outputId": "fb873ba8-e32b-4e45-f28b-342724f3e0c8"
      },
      "source": [
        "len(data_train_X)"
      ],
      "execution_count": 20,
      "outputs": [
        {
          "output_type": "execute_result",
          "data": {
            "text/plain": [
              "28709"
            ]
          },
          "metadata": {
            "tags": []
          },
          "execution_count": 20
        }
      ]
    },
    {
      "cell_type": "code",
      "metadata": {
        "id": "c8IufPRebEDR"
      },
      "source": [
        "data_generator = ImageDataGenerator(\n",
        "                        width_shift_range=0.1,\n",
        "                        height_shift_range=0.1,\n",
        "                        zoom_range=-.1,\n",
        "                        horizontal_flip=True)"
      ],
      "execution_count": 21,
      "outputs": []
    },
    {
      "cell_type": "code",
      "metadata": {
        "id": "Ji7VTq3ZX11B"
      },
      "source": [
        "# from sklearn.model_selection import StratifiedKFold\n",
        "# num_folds = 10\n",
        "# # Define per-fold score containers <-- these are new\n",
        "# acc_per_fold = []\n",
        "# loss_per_fold = []\n",
        "# # Merge inputs and targets\n",
        "# inputs = np.concatenate((data_train_X, data_val_X), axis=0)\n",
        "# targets = np.concatenate((data_train_Y, data_val_Y), axis=0)\n",
        "# # Define the K-fold Cross Validator\n",
        "# kfold = StratifiedKFold(n_splits=num_folds, shuffle=True)\n",
        "\n",
        "# fold_no = 1\n",
        "# for train, test in kfold.split(inputs, targets):\n",
        "#   targets = to_categorical(targets, num_classes) \n",
        "#   #create model\n",
        "#   model = tf.keras.applications.ResNet50(\n",
        "#       include_top=True,\n",
        "#       weights=None,\n",
        "#       input_tensor=None,\n",
        "#       input_shape=(48, 48, 1),\n",
        "#       pooling=\"max\",\n",
        "#       classes=7\n",
        "#   )\n",
        "\n",
        "#   #model compile specifics\n",
        "#   model.compile(loss=tf.keras.losses.CategoricalCrossentropy(), \n",
        "#                 optimizer=SGD(learning_rate=0.01, momentum=0.0001),\n",
        "#                 metrics=['categorical_accuracy'])\n",
        "\n",
        "#   #Train the model\n",
        "#   history = model.fit(data_generator.flow(inputs[train], targets[train], batch_size), \n",
        "#                     batch_size=batch_size,\n",
        "#                     shuffle=True,\n",
        "#                     steps_per_epoch=len(data_train_X) / batch_size,\n",
        "#                     # validation_data=(data_val_X, data_val_Y),\n",
        "#                     epochs=50)\n",
        "  \n",
        "#   # Generate generalization metrics\n",
        "#   scores = model.evaluate(inputs[test], targets[test], verbose=0)\n",
        "#   print(f'Score for fold {fold_no}: {model.metrics_names[0]} of {scores[0]}; {model.metrics_names[1]} of {scores[1]*100}%')\n",
        "#   acc_per_fold.append(scores[1] * 100)\n",
        "#   loss_per_fold.append(scores[0])\n",
        "\n",
        "#   # Increase fold number\n",
        "#   fold_no = fold_no + 1\n",
        "\n",
        "# == Provide average scores ==\n",
        "# print('------------------------------------------------------------------------')\n",
        "# print('Score per fold')\n",
        "# for i in range(0, len(acc_per_fold)):\n",
        "#   print('------------------------------------------------------------------------')\n",
        "#   print(f'> Fold {i+1} - Loss: {loss_per_fold[i]} - Accuracy: {acc_per_fold[i]}%')\n",
        "# print('------------------------------------------------------------------------')\n",
        "# print('Average scores for all folds:')\n",
        "# print(f'> Accuracy: {np.mean(acc_per_fold)} (+- {np.std(acc_per_fold)})')\n",
        "# print(f'> Loss: {np.mean(loss_per_fold)}')\n",
        "# print('------------------------------------------------------------------------')"
      ],
      "execution_count": 22,
      "outputs": []
    },
    {
      "cell_type": "code",
      "metadata": {
        "colab": {
          "base_uri": "https://localhost:8080/"
        },
        "id": "4N6dziABh9nP",
        "outputId": "eacdfd44-b11e-4d47-d5f4-19a804a25777"
      },
      "source": [
        "data_generator = ImageDataGenerator(\n",
        "                        width_shift_range=0.1,\n",
        "                        height_shift_range=0.1,\n",
        "                        zoom_range=-.1,\n",
        "                        horizontal_flip=True)\n",
        "\n",
        "path_model=BASE_PATH + '/fer_model_resnet'\n",
        "\n",
        "# #Train the model\n",
        "history = model.fit(data_generator.flow(data_train_X, data_train_Y, batch_size), \n",
        "                    batch_size=128,\n",
        "                    shuffle=True,\n",
        "                    steps_per_epoch=len(data_train_X) / 128,\n",
        "                    validation_data=(data_val_X, data_val_Y),\n",
        "                    epochs=100)\n",
        "\n",
        "# history = model.fit(data_train_X, data_train_Y, \n",
        "#                     batch_size=batch_size,\n",
        "#                     shuffle=True,\n",
        "#                     steps_per_epoch=len(data_train_X) / batch_size,\n",
        "#                     validation_data=(data_val_X, data_val_Y),\n",
        "#                     epochs=50)\n",
        "\n",
        "# model.save(path_model)"
      ],
      "execution_count": 25,
      "outputs": [
        {
          "output_type": "stream",
          "text": [
            "Epoch 1/100\n",
            "224/224 [==============================] - 21s 68ms/step - loss: 2.3936 - categorical_accuracy: 0.2333 - val_loss: 156.2422 - val_categorical_accuracy: 0.1156\n",
            "Epoch 2/100\n",
            "224/224 [==============================] - 15s 67ms/step - loss: 1.8921 - categorical_accuracy: 0.2952 - val_loss: 61.9610 - val_categorical_accuracy: 0.1226\n",
            "Epoch 3/100\n",
            "224/224 [==============================] - 14s 64ms/step - loss: 1.7589 - categorical_accuracy: 0.3358 - val_loss: 7.1395 - val_categorical_accuracy: 0.1388\n",
            "Epoch 4/100\n",
            "224/224 [==============================] - 14s 64ms/step - loss: 1.6728 - categorical_accuracy: 0.3601 - val_loss: 2.0970 - val_categorical_accuracy: 0.3018\n",
            "Epoch 5/100\n",
            "224/224 [==============================] - 14s 63ms/step - loss: 1.6265 - categorical_accuracy: 0.3806 - val_loss: 1.7798 - val_categorical_accuracy: 0.3555\n",
            "Epoch 6/100\n",
            "224/224 [==============================] - 15s 65ms/step - loss: 1.5930 - categorical_accuracy: 0.3955 - val_loss: 1.5620 - val_categorical_accuracy: 0.4096\n",
            "Epoch 7/100\n",
            "224/224 [==============================] - 15s 65ms/step - loss: 1.5529 - categorical_accuracy: 0.4073 - val_loss: 1.5434 - val_categorical_accuracy: 0.4266\n",
            "Epoch 8/100\n",
            "224/224 [==============================] - 15s 65ms/step - loss: 1.5085 - categorical_accuracy: 0.4262 - val_loss: 1.5182 - val_categorical_accuracy: 0.4391\n",
            "Epoch 9/100\n",
            "224/224 [==============================] - 15s 66ms/step - loss: 1.4770 - categorical_accuracy: 0.4369 - val_loss: 1.5389 - val_categorical_accuracy: 0.4427\n",
            "Epoch 10/100\n",
            "224/224 [==============================] - 14s 64ms/step - loss: 1.4595 - categorical_accuracy: 0.4458 - val_loss: 1.4834 - val_categorical_accuracy: 0.4575\n",
            "Epoch 11/100\n",
            "224/224 [==============================] - 15s 67ms/step - loss: 1.4439 - categorical_accuracy: 0.4506 - val_loss: 1.4799 - val_categorical_accuracy: 0.4586\n",
            "Epoch 12/100\n",
            "224/224 [==============================] - 15s 65ms/step - loss: 1.4253 - categorical_accuracy: 0.4667 - val_loss: 1.4455 - val_categorical_accuracy: 0.4667\n",
            "Epoch 13/100\n",
            "224/224 [==============================] - 14s 64ms/step - loss: 1.4121 - categorical_accuracy: 0.4639 - val_loss: 1.4325 - val_categorical_accuracy: 0.4726\n",
            "Epoch 14/100\n",
            "224/224 [==============================] - 14s 64ms/step - loss: 1.3702 - categorical_accuracy: 0.4826 - val_loss: 1.4136 - val_categorical_accuracy: 0.4687\n",
            "Epoch 15/100\n",
            "224/224 [==============================] - 15s 65ms/step - loss: 1.3724 - categorical_accuracy: 0.4769 - val_loss: 1.4575 - val_categorical_accuracy: 0.4745\n",
            "Epoch 16/100\n",
            "224/224 [==============================] - 15s 66ms/step - loss: 1.3475 - categorical_accuracy: 0.4889 - val_loss: 1.3707 - val_categorical_accuracy: 0.4831\n",
            "Epoch 17/100\n",
            "224/224 [==============================] - 14s 64ms/step - loss: 1.3417 - categorical_accuracy: 0.4909 - val_loss: 1.3624 - val_categorical_accuracy: 0.4831\n",
            "Epoch 18/100\n",
            "224/224 [==============================] - 14s 63ms/step - loss: 1.3325 - categorical_accuracy: 0.4943 - val_loss: 1.3522 - val_categorical_accuracy: 0.4868\n",
            "Epoch 19/100\n",
            "224/224 [==============================] - 14s 63ms/step - loss: 1.3081 - categorical_accuracy: 0.5077 - val_loss: 1.3361 - val_categorical_accuracy: 0.4923\n",
            "Epoch 20/100\n",
            "224/224 [==============================] - 15s 65ms/step - loss: 1.3003 - categorical_accuracy: 0.5062 - val_loss: 1.3267 - val_categorical_accuracy: 0.5010\n",
            "Epoch 21/100\n",
            "224/224 [==============================] - 14s 64ms/step - loss: 1.2879 - categorical_accuracy: 0.5120 - val_loss: 1.3189 - val_categorical_accuracy: 0.5021\n",
            "Epoch 22/100\n",
            "224/224 [==============================] - 14s 64ms/step - loss: 1.2706 - categorical_accuracy: 0.5202 - val_loss: 1.3007 - val_categorical_accuracy: 0.5093\n",
            "Epoch 23/100\n",
            "224/224 [==============================] - 14s 64ms/step - loss: 1.2548 - categorical_accuracy: 0.5227 - val_loss: 1.3031 - val_categorical_accuracy: 0.5102\n",
            "Epoch 24/100\n",
            "224/224 [==============================] - 14s 64ms/step - loss: 1.2511 - categorical_accuracy: 0.5263 - val_loss: 1.2990 - val_categorical_accuracy: 0.5146\n",
            "Epoch 25/100\n",
            "224/224 [==============================] - 15s 65ms/step - loss: 1.2343 - categorical_accuracy: 0.5324 - val_loss: 1.3042 - val_categorical_accuracy: 0.5149\n",
            "Epoch 26/100\n",
            "224/224 [==============================] - 14s 64ms/step - loss: 1.2349 - categorical_accuracy: 0.5318 - val_loss: 1.2744 - val_categorical_accuracy: 0.5224\n",
            "Epoch 27/100\n",
            "224/224 [==============================] - 15s 67ms/step - loss: 1.2129 - categorical_accuracy: 0.5380 - val_loss: 1.2719 - val_categorical_accuracy: 0.5252\n",
            "Epoch 28/100\n",
            "224/224 [==============================] - 14s 63ms/step - loss: 1.2059 - categorical_accuracy: 0.5503 - val_loss: 1.2584 - val_categorical_accuracy: 0.5272\n",
            "Epoch 29/100\n",
            "224/224 [==============================] - 15s 65ms/step - loss: 1.1997 - categorical_accuracy: 0.5489 - val_loss: 1.2962 - val_categorical_accuracy: 0.5160\n",
            "Epoch 30/100\n",
            "224/224 [==============================] - 14s 63ms/step - loss: 1.2019 - categorical_accuracy: 0.5459 - val_loss: 1.2465 - val_categorical_accuracy: 0.5280\n",
            "Epoch 31/100\n",
            "224/224 [==============================] - 15s 66ms/step - loss: 1.1931 - categorical_accuracy: 0.5499 - val_loss: 1.2391 - val_categorical_accuracy: 0.5288\n",
            "Epoch 32/100\n",
            "224/224 [==============================] - 14s 64ms/step - loss: 1.1716 - categorical_accuracy: 0.5582 - val_loss: 1.2661 - val_categorical_accuracy: 0.5291\n",
            "Epoch 33/100\n",
            "224/224 [==============================] - 15s 65ms/step - loss: 1.1634 - categorical_accuracy: 0.5629 - val_loss: 1.2376 - val_categorical_accuracy: 0.5355\n",
            "Epoch 34/100\n",
            "224/224 [==============================] - 14s 63ms/step - loss: 1.1690 - categorical_accuracy: 0.5599 - val_loss: 1.2297 - val_categorical_accuracy: 0.5372\n",
            "Epoch 35/100\n",
            "224/224 [==============================] - 14s 64ms/step - loss: 1.1447 - categorical_accuracy: 0.5694 - val_loss: 1.2192 - val_categorical_accuracy: 0.5428\n",
            "Epoch 36/100\n",
            "224/224 [==============================] - 15s 65ms/step - loss: 1.1450 - categorical_accuracy: 0.5690 - val_loss: 1.2016 - val_categorical_accuracy: 0.5486\n",
            "Epoch 37/100\n",
            "224/224 [==============================] - 15s 65ms/step - loss: 1.1474 - categorical_accuracy: 0.5697 - val_loss: 1.2007 - val_categorical_accuracy: 0.5542\n",
            "Epoch 38/100\n",
            "224/224 [==============================] - 14s 63ms/step - loss: 1.1297 - categorical_accuracy: 0.5746 - val_loss: 1.2082 - val_categorical_accuracy: 0.5425\n",
            "Epoch 39/100\n",
            "224/224 [==============================] - 14s 63ms/step - loss: 1.1224 - categorical_accuracy: 0.5748 - val_loss: 1.2005 - val_categorical_accuracy: 0.5486\n",
            "Epoch 40/100\n",
            "224/224 [==============================] - 15s 66ms/step - loss: 1.1229 - categorical_accuracy: 0.5805 - val_loss: 1.1838 - val_categorical_accuracy: 0.5511\n",
            "Epoch 41/100\n",
            "224/224 [==============================] - 14s 64ms/step - loss: 1.1101 - categorical_accuracy: 0.5811 - val_loss: 1.1835 - val_categorical_accuracy: 0.5570\n",
            "Epoch 42/100\n",
            "224/224 [==============================] - 14s 63ms/step - loss: 1.1002 - categorical_accuracy: 0.5836 - val_loss: 1.1876 - val_categorical_accuracy: 0.5528\n",
            "Epoch 43/100\n",
            "224/224 [==============================] - 14s 63ms/step - loss: 1.0999 - categorical_accuracy: 0.5880 - val_loss: 1.1744 - val_categorical_accuracy: 0.5573\n",
            "Epoch 44/100\n",
            "224/224 [==============================] - 14s 63ms/step - loss: 1.0927 - categorical_accuracy: 0.5894 - val_loss: 1.1700 - val_categorical_accuracy: 0.5614\n",
            "Epoch 45/100\n",
            "224/224 [==============================] - 15s 66ms/step - loss: 1.0712 - categorical_accuracy: 0.6006 - val_loss: 1.1803 - val_categorical_accuracy: 0.5592\n",
            "Epoch 46/100\n",
            "224/224 [==============================] - 14s 63ms/step - loss: 1.0735 - categorical_accuracy: 0.5990 - val_loss: 1.1756 - val_categorical_accuracy: 0.5581\n",
            "Epoch 47/100\n",
            "224/224 [==============================] - 15s 66ms/step - loss: 1.0951 - categorical_accuracy: 0.5869 - val_loss: 1.1620 - val_categorical_accuracy: 0.5612\n",
            "Epoch 48/100\n",
            "224/224 [==============================] - 15s 65ms/step - loss: 1.0691 - categorical_accuracy: 0.5946 - val_loss: 1.1736 - val_categorical_accuracy: 0.5603\n",
            "Epoch 49/100\n",
            "224/224 [==============================] - 15s 66ms/step - loss: 1.0607 - categorical_accuracy: 0.5974 - val_loss: 1.1617 - val_categorical_accuracy: 0.5681\n",
            "Epoch 50/100\n",
            "224/224 [==============================] - 15s 66ms/step - loss: 1.0478 - categorical_accuracy: 0.6088 - val_loss: 1.1600 - val_categorical_accuracy: 0.5656\n",
            "Epoch 51/100\n",
            "224/224 [==============================] - 15s 66ms/step - loss: 1.0534 - categorical_accuracy: 0.6060 - val_loss: 1.1459 - val_categorical_accuracy: 0.5673\n",
            "Epoch 52/100\n",
            "224/224 [==============================] - 15s 66ms/step - loss: 1.0363 - categorical_accuracy: 0.6105 - val_loss: 1.1805 - val_categorical_accuracy: 0.5600\n",
            "Epoch 53/100\n",
            "224/224 [==============================] - 14s 64ms/step - loss: 1.0265 - categorical_accuracy: 0.6136 - val_loss: 1.1556 - val_categorical_accuracy: 0.5692\n",
            "Epoch 54/100\n",
            "224/224 [==============================] - 14s 63ms/step - loss: 1.0382 - categorical_accuracy: 0.6099 - val_loss: 1.1564 - val_categorical_accuracy: 0.5690\n",
            "Epoch 55/100\n",
            "224/224 [==============================] - 14s 63ms/step - loss: 1.0205 - categorical_accuracy: 0.6164 - val_loss: 1.1614 - val_categorical_accuracy: 0.5667\n",
            "Epoch 56/100\n",
            "224/224 [==============================] - 15s 65ms/step - loss: 1.0200 - categorical_accuracy: 0.6137 - val_loss: 1.1497 - val_categorical_accuracy: 0.5653\n",
            "Epoch 57/100\n",
            "224/224 [==============================] - 14s 64ms/step - loss: 1.0250 - categorical_accuracy: 0.6133 - val_loss: 1.1421 - val_categorical_accuracy: 0.5731\n",
            "Epoch 58/100\n",
            "224/224 [==============================] - 14s 64ms/step - loss: 1.0136 - categorical_accuracy: 0.6194 - val_loss: 1.1564 - val_categorical_accuracy: 0.5743\n",
            "Epoch 59/100\n",
            "224/224 [==============================] - 14s 63ms/step - loss: 0.9938 - categorical_accuracy: 0.6287 - val_loss: 1.1543 - val_categorical_accuracy: 0.5748\n",
            "Epoch 60/100\n",
            "224/224 [==============================] - 14s 64ms/step - loss: 1.0085 - categorical_accuracy: 0.6226 - val_loss: 1.1447 - val_categorical_accuracy: 0.5684\n",
            "Epoch 61/100\n",
            "224/224 [==============================] - 15s 66ms/step - loss: 0.9895 - categorical_accuracy: 0.6297 - val_loss: 1.1350 - val_categorical_accuracy: 0.5768\n",
            "Epoch 62/100\n",
            "224/224 [==============================] - 14s 64ms/step - loss: 0.9806 - categorical_accuracy: 0.6323 - val_loss: 1.1398 - val_categorical_accuracy: 0.5782\n",
            "Epoch 63/100\n",
            "224/224 [==============================] - 14s 64ms/step - loss: 0.9755 - categorical_accuracy: 0.6320 - val_loss: 1.1368 - val_categorical_accuracy: 0.5818\n",
            "Epoch 64/100\n",
            "224/224 [==============================] - 14s 64ms/step - loss: 0.9719 - categorical_accuracy: 0.6355 - val_loss: 1.1429 - val_categorical_accuracy: 0.5779\n",
            "Epoch 65/100\n",
            "224/224 [==============================] - 15s 66ms/step - loss: 0.9752 - categorical_accuracy: 0.6374 - val_loss: 1.1546 - val_categorical_accuracy: 0.5818\n",
            "Epoch 66/100\n",
            "224/224 [==============================] - 15s 65ms/step - loss: 0.9654 - categorical_accuracy: 0.6398 - val_loss: 1.1315 - val_categorical_accuracy: 0.5846\n",
            "Epoch 67/100\n",
            "224/224 [==============================] - 14s 64ms/step - loss: 0.9680 - categorical_accuracy: 0.6398 - val_loss: 1.1534 - val_categorical_accuracy: 0.5843\n",
            "Epoch 68/100\n",
            "224/224 [==============================] - 14s 64ms/step - loss: 0.9578 - categorical_accuracy: 0.6441 - val_loss: 1.1335 - val_categorical_accuracy: 0.5759\n",
            "Epoch 69/100\n",
            "224/224 [==============================] - 14s 64ms/step - loss: 0.9498 - categorical_accuracy: 0.6448 - val_loss: 1.1400 - val_categorical_accuracy: 0.5860\n",
            "Epoch 70/100\n",
            "224/224 [==============================] - 15s 66ms/step - loss: 0.9474 - categorical_accuracy: 0.6485 - val_loss: 1.1212 - val_categorical_accuracy: 0.5874\n",
            "Epoch 71/100\n",
            "224/224 [==============================] - 14s 64ms/step - loss: 0.9355 - categorical_accuracy: 0.6485 - val_loss: 1.1243 - val_categorical_accuracy: 0.5848\n",
            "Epoch 72/100\n",
            "224/224 [==============================] - 15s 66ms/step - loss: 0.9337 - categorical_accuracy: 0.6554 - val_loss: 1.1105 - val_categorical_accuracy: 0.5910\n",
            "Epoch 73/100\n",
            "224/224 [==============================] - 14s 64ms/step - loss: 0.9321 - categorical_accuracy: 0.6553 - val_loss: 1.1212 - val_categorical_accuracy: 0.5890\n",
            "Epoch 74/100\n",
            "224/224 [==============================] - 15s 65ms/step - loss: 0.9136 - categorical_accuracy: 0.6572 - val_loss: 1.1266 - val_categorical_accuracy: 0.5946\n",
            "Epoch 75/100\n",
            "224/224 [==============================] - 14s 64ms/step - loss: 0.9154 - categorical_accuracy: 0.6610 - val_loss: 1.1094 - val_categorical_accuracy: 0.5946\n",
            "Epoch 76/100\n",
            "224/224 [==============================] - 15s 65ms/step - loss: 0.9254 - categorical_accuracy: 0.6550 - val_loss: 1.1329 - val_categorical_accuracy: 0.5807\n",
            "Epoch 77/100\n",
            "224/224 [==============================] - 15s 65ms/step - loss: 0.9032 - categorical_accuracy: 0.6644 - val_loss: 1.1269 - val_categorical_accuracy: 0.5918\n",
            "Epoch 78/100\n",
            "224/224 [==============================] - 15s 66ms/step - loss: 0.9059 - categorical_accuracy: 0.6587 - val_loss: 1.1310 - val_categorical_accuracy: 0.5876\n",
            "Epoch 79/100\n",
            "224/224 [==============================] - 15s 64ms/step - loss: 0.9007 - categorical_accuracy: 0.6662 - val_loss: 1.1288 - val_categorical_accuracy: 0.5938\n",
            "Epoch 80/100\n",
            "224/224 [==============================] - 14s 64ms/step - loss: 0.8963 - categorical_accuracy: 0.6674 - val_loss: 1.1337 - val_categorical_accuracy: 0.5851\n",
            "Epoch 81/100\n",
            "224/224 [==============================] - 15s 66ms/step - loss: 0.8868 - categorical_accuracy: 0.6727 - val_loss: 1.1192 - val_categorical_accuracy: 0.5974\n",
            "Epoch 82/100\n",
            "224/224 [==============================] - 15s 65ms/step - loss: 0.8884 - categorical_accuracy: 0.6719 - val_loss: 1.1360 - val_categorical_accuracy: 0.5921\n",
            "Epoch 83/100\n",
            "224/224 [==============================] - 15s 65ms/step - loss: 0.8712 - categorical_accuracy: 0.6755 - val_loss: 1.1133 - val_categorical_accuracy: 0.5960\n",
            "Epoch 84/100\n",
            "224/224 [==============================] - 15s 65ms/step - loss: 0.8932 - categorical_accuracy: 0.6720 - val_loss: 1.1200 - val_categorical_accuracy: 0.5915\n",
            "Epoch 85/100\n",
            "224/224 [==============================] - 15s 65ms/step - loss: 0.8759 - categorical_accuracy: 0.6755 - val_loss: 1.1083 - val_categorical_accuracy: 0.6004\n",
            "Epoch 86/100\n",
            "224/224 [==============================] - 15s 67ms/step - loss: 0.8538 - categorical_accuracy: 0.6867 - val_loss: 1.1067 - val_categorical_accuracy: 0.6016\n",
            "Epoch 87/100\n",
            "224/224 [==============================] - 15s 65ms/step - loss: 0.8580 - categorical_accuracy: 0.6811 - val_loss: 1.1195 - val_categorical_accuracy: 0.5991\n",
            "Epoch 88/100\n",
            "224/224 [==============================] - 14s 64ms/step - loss: 0.8569 - categorical_accuracy: 0.6817 - val_loss: 1.1128 - val_categorical_accuracy: 0.5985\n",
            "Epoch 89/100\n",
            "224/224 [==============================] - 14s 64ms/step - loss: 0.8602 - categorical_accuracy: 0.6837 - val_loss: 1.1224 - val_categorical_accuracy: 0.5935\n",
            "Epoch 90/100\n",
            "224/224 [==============================] - 15s 67ms/step - loss: 0.8523 - categorical_accuracy: 0.6888 - val_loss: 1.1108 - val_categorical_accuracy: 0.6010\n",
            "Epoch 91/100\n",
            "224/224 [==============================] - 15s 64ms/step - loss: 0.8436 - categorical_accuracy: 0.6922 - val_loss: 1.1207 - val_categorical_accuracy: 0.6002\n",
            "Epoch 92/100\n",
            "224/224 [==============================] - 15s 66ms/step - loss: 0.8397 - categorical_accuracy: 0.6923 - val_loss: 1.1151 - val_categorical_accuracy: 0.6041\n",
            "Epoch 93/100\n",
            "224/224 [==============================] - 15s 65ms/step - loss: 0.8196 - categorical_accuracy: 0.6992 - val_loss: 1.1206 - val_categorical_accuracy: 0.6057\n",
            "Epoch 94/100\n",
            "224/224 [==============================] - 15s 65ms/step - loss: 0.8231 - categorical_accuracy: 0.6991 - val_loss: 1.1203 - val_categorical_accuracy: 0.6035\n",
            "Epoch 95/100\n",
            "224/224 [==============================] - 15s 65ms/step - loss: 0.8221 - categorical_accuracy: 0.6942 - val_loss: 1.1212 - val_categorical_accuracy: 0.6038\n",
            "Epoch 96/100\n",
            "224/224 [==============================] - 14s 64ms/step - loss: 0.8116 - categorical_accuracy: 0.7001 - val_loss: 1.1247 - val_categorical_accuracy: 0.6027\n",
            "Epoch 97/100\n",
            "224/224 [==============================] - 15s 67ms/step - loss: 0.8140 - categorical_accuracy: 0.6985 - val_loss: 1.1270 - val_categorical_accuracy: 0.6021\n",
            "Epoch 98/100\n",
            "224/224 [==============================] - 15s 66ms/step - loss: 0.8021 - categorical_accuracy: 0.7026 - val_loss: 1.1171 - val_categorical_accuracy: 0.6060\n",
            "Epoch 99/100\n",
            "224/224 [==============================] - 15s 67ms/step - loss: 0.7977 - categorical_accuracy: 0.7080 - val_loss: 1.1340 - val_categorical_accuracy: 0.6002\n",
            "Epoch 100/100\n",
            "224/224 [==============================] - 15s 65ms/step - loss: 0.7930 - categorical_accuracy: 0.7085 - val_loss: 1.1258 - val_categorical_accuracy: 0.6021\n"
          ],
          "name": "stdout"
        }
      ]
    },
    {
      "cell_type": "markdown",
      "metadata": {
        "id": "jWGTJdUvHc0Z"
      },
      "source": [
        "Visualizing Training Accuracy"
      ]
    },
    {
      "cell_type": "code",
      "metadata": {
        "colab": {
          "base_uri": "https://localhost:8080/",
          "height": 404
        },
        "id": "DWRRsaOqHcWX",
        "outputId": "bce6a84b-1b05-4ac3-d9d8-7521646bbae8"
      },
      "source": [
        "fig, axes = plt.subplots(1,2, figsize=(18, 6))\n",
        "# Plot training & validation accuracy values\n",
        "axes[0].plot(history.history['categorical_accuracy'])\n",
        "axes[0].plot(history.history['val_categorical_accuracy'])\n",
        "axes[0].set_title('Model accuracy')\n",
        "axes[0].set_ylabel('Accuracy')\n",
        "axes[0].set_xlabel('Epoch')\n",
        "axes[0].legend(['Train', 'Validation'], loc='upper left')\n",
        "\n",
        "# Plot training & validation loss values\n",
        "axes[1].plot(history.history['loss'])\n",
        "axes[1].plot(history.history['val_loss'])\n",
        "axes[1].set_title('Model loss')\n",
        "axes[1].set_ylabel('Loss')\n",
        "axes[1].set_xlabel('Epoch')\n",
        "axes[1].legend(['Train', 'Validation'], loc='upper left')\n",
        "plt.show()"
      ],
      "execution_count": 26,
      "outputs": [
        {
          "output_type": "display_data",
          "data": {
            "image/png": "[encoded data removed]",
            "text/plain": [
              "<Figure size 1296x432 with 2 Axes>"
            ]
          },
          "metadata": {
            "tags": [],
            "needs_background": "light"
          }
        }
      ]
    },
    {
      "cell_type": "code",
      "metadata": {
        "colab": {
          "base_uri": "https://localhost:8080/"
        },
        "id": "p2bpxgX0Wc3S",
        "outputId": "bf5054ef-f9f9-4e3e-da19-fd5a3adadb06"
      },
      "source": [
        "score = model.evaluate(data_test_X, data_test_Y, verbose=0)\n",
        "print(f'Test loss: {score[0]} / Test accuracy: {score[1]}')"
      ],
      "execution_count": 27,
      "outputs": [
        {
          "output_type": "stream",
          "text": [
            "Test loss: 1.0775132179260254 / Test accuracy: 0.614934504032135\n"
          ],
          "name": "stdout"
        }
      ]
    },
    {
      "cell_type": "markdown",
      "metadata": {
        "id": "FS-t-g1d_GCI"
      },
      "source": [
        "Classify images outsite the dataset"
      ]
    },
    {
      "cell_type": "code",
      "metadata": {
        "colab": {
          "base_uri": "https://localhost:8080/",
          "height": 853
        },
        "id": "l_7_GN0d_LFS",
        "outputId": "89828237-a2b8-4e13-9328-8cf615ad88e8"
      },
      "source": [
        "\n",
        "path_model=BASE_PATH + '/fer_model_resnet'\n",
        "\n",
        "from tensorflow.keras.preprocessing import image\n",
        "\n",
        "def classify(img_path):\n",
        "    img = image.load_img(img_path, target_size=(48, 48))\n",
        "    plt.imshow(img)\n",
        "    plt.show()\n",
        "    img_array = image.img_to_array(img)\n",
        "\n",
        "    img_batch = np.expand_dims(img_array, axis=0)\n",
        "\n",
        "    img_batch /= 255\n",
        "\n",
        "    # model = keras.models.load_model(path_model)\n",
        "    prediction = model.predict(img_batch)\n",
        "\n",
        "    print(prediction)\n",
        "    MaxPosition=np.argmax(prediction)  \n",
        "    prediction_label=emotion_map[MaxPosition]\n",
        "    print(prediction_label) \n",
        "\n",
        "    for i,prob in enumerate(prediction[0]):\n",
        "      print(emotion_map[i] , \":\" , prob*100)\n",
        "    # class_labels=[emotion_map[i] for i,prob in enumerate(prediction) if prob > 0.5]\n",
        "    # print(class_labels)\n",
        "\n",
        "img_path=BASE_PATH + '/images/fer_test_1.jpg'\n",
        "classify(img_path)\n",
        "img_path=BASE_PATH + '/images/fer_test_2.jpg'\n",
        "classify(img_path)"
      ],
      "execution_count": 29,
      "outputs": [
        {
          "output_type": "display_data",
          "data": {
            "image/png": "[encoded data removed]",
            "text/plain": [
              "<Figure size 432x288 with 1 Axes>"
            ]
          },
          "metadata": {
            "tags": [],
            "needs_background": "light"
          }
        },
        {
          "output_type": "stream",
          "text": [
            "[[3.0117106e-02 3.1753716e-05 1.3764310e-01 5.9121247e-02 1.9142078e-01\n",
            "  2.5666745e-02 5.5599928e-01]]\n",
            "Neutral\n",
            "Angry : 3.0117105692625046\n",
            "Digust : 0.003175371602992527\n",
            "Fear : 13.764309883117676\n",
            "Happy : 5.912124738097191\n",
            "Sad : 19.1420778632164\n",
            "Surprise : 2.5666745379567146\n",
            "Neutral : 55.59992790222168\n"
          ],
          "name": "stdout"
        },
        {
          "output_type": "display_data",
          "data": {
            "image/png": "[encoded data removed]",
            "text/plain": [
              "<Figure size 432x288 with 1 Axes>"
            ]
          },
          "metadata": {
            "tags": [],
            "needs_background": "light"
          }
        },
        {
          "output_type": "stream",
          "text": [
            "[[8.2997464e-02 2.7092420e-07 4.9070735e-02 1.2317736e-01 8.7913856e-02\n",
            "  1.2942532e-02 6.4389777e-01]]\n",
            "Neutral\n",
            "Angry : 8.299746364355087\n",
            "Digust : 2.7092420396002126e-05\n",
            "Fear : 4.907073453068733\n",
            "Happy : 12.317735701799393\n",
            "Sad : 8.79138559103012\n",
            "Surprise : 1.2942532077431679\n",
            "Neutral : 64.38977718353271\n"
          ],
          "name": "stdout"
        }
      ]
    }
  ]
}