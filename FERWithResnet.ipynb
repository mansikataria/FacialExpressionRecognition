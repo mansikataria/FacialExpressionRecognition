{
  "nbformat": 4,
  "nbformat_minor": 0,
  "metadata": {
    "colab": {
      "name": "FERWithResnet.ipynb",
      "provenance": [],
      "collapsed_sections": [],
      "machine_shape": "hm",
      "authorship_tag": "ABX9TyM4XzB4qw2mXYlOKjEszSdA",
      "include_colab_link": true
    },
    "kernelspec": {
      "display_name": "Python 3",
      "name": "python3"
    },
    "language_info": {
      "name": "python"
    },
    "accelerator": "GPU"
  },
  "cells": [
    {
      "cell_type": "markdown",
      "metadata": {
        "id": "view-in-github",
        "colab_type": "text"
      },
      "source": [
        "<a href=\"https://colab.research.google.com/github/mansikataria/FacialExpressionRecognition/blob/main/FERWithResnet.ipynb\" target=\"_parent\"><img src=\"https://colab.research.google.com/assets/colab-badge.svg\" alt=\"Open In Colab\"/></a>"
      ]
    },
    {
      "cell_type": "code",
      "metadata": {
        "colab": {
          "base_uri": "https://localhost:8080/"
        },
        "id": "PhI5JwEsprsi",
        "outputId": "df3e43d1-03aa-43b5-b944-8199b5fa1f60"
      },
      "source": [
        "!pip install watermark\n"
      ],
      "execution_count": 2,
      "outputs": [
        {
          "output_type": "stream",
          "text": [
            "Requirement already satisfied: watermark in /usr/local/lib/python3.7/dist-packages (2.2.0)\n",
            "Requirement already satisfied: importlib-metadata<3.0; python_version < \"3.8\" in /usr/local/lib/python3.7/dist-packages (from watermark) (2.1.1)\n",
            "Requirement already satisfied: ipython in /usr/local/lib/python3.7/dist-packages (from watermark) (5.5.0)\n",
            "Requirement already satisfied: zipp>=0.5 in /usr/local/lib/python3.7/dist-packages (from importlib-metadata<3.0; python_version < \"3.8\"->watermark) (3.5.0)\n",
            "Requirement already satisfied: decorator in /usr/local/lib/python3.7/dist-packages (from ipython->watermark) (4.4.2)\n",
            "Requirement already satisfied: traitlets>=4.2 in /usr/local/lib/python3.7/dist-packages (from ipython->watermark) (5.0.5)\n",
            "Requirement already satisfied: simplegeneric>0.8 in /usr/local/lib/python3.7/dist-packages (from ipython->watermark) (0.8.1)\n",
            "Requirement already satisfied: pygments in /usr/local/lib/python3.7/dist-packages (from ipython->watermark) (2.6.1)\n",
            "Requirement already satisfied: prompt-toolkit<2.0.0,>=1.0.4 in /usr/local/lib/python3.7/dist-packages (from ipython->watermark) (1.0.18)\n",
            "Requirement already satisfied: setuptools>=18.5 in /usr/local/lib/python3.7/dist-packages (from ipython->watermark) (57.2.0)\n",
            "Requirement already satisfied: pickleshare in /usr/local/lib/python3.7/dist-packages (from ipython->watermark) (0.7.5)\n",
            "Requirement already satisfied: pexpect; sys_platform != \"win32\" in /usr/local/lib/python3.7/dist-packages (from ipython->watermark) (4.8.0)\n",
            "Requirement already satisfied: ipython-genutils in /usr/local/lib/python3.7/dist-packages (from traitlets>=4.2->ipython->watermark) (0.2.0)\n",
            "Requirement already satisfied: wcwidth in /usr/local/lib/python3.7/dist-packages (from prompt-toolkit<2.0.0,>=1.0.4->ipython->watermark) (0.2.5)\n",
            "Requirement already satisfied: six>=1.9.0 in /usr/local/lib/python3.7/dist-packages (from prompt-toolkit<2.0.0,>=1.0.4->ipython->watermark) (1.15.0)\n",
            "Requirement already satisfied: ptyprocess>=0.5 in /usr/local/lib/python3.7/dist-packages (from pexpect; sys_platform != \"win32\"->ipython->watermark) (0.7.0)\n"
          ],
          "name": "stdout"
        }
      ]
    },
    {
      "cell_type": "code",
      "metadata": {
        "colab": {
          "base_uri": "https://localhost:8080/"
        },
        "id": "j_3YS-M6CEHO",
        "outputId": "5470cc3e-a6de-4172-e28c-79ffd2955f15"
      },
      "source": [
        "%load_ext watermark\n",
        "%watermark -a 'Mansi Kataria' -v -p torch"
      ],
      "execution_count": 3,
      "outputs": [
        {
          "output_type": "stream",
          "text": [
            "Author: Mansi Kataria\n",
            "\n",
            "Python implementation: CPython\n",
            "Python version       : 3.7.11\n",
            "IPython version      : 5.5.0\n",
            "\n",
            "torch: 1.9.0+cu102\n",
            "\n"
          ],
          "name": "stdout"
        }
      ]
    },
    {
      "cell_type": "markdown",
      "metadata": {
        "id": "BTkthF3lq_jb"
      },
      "source": [
        "Reading the FER2013 dataset from the CSV"
      ]
    },
    {
      "cell_type": "code",
      "metadata": {
        "id": "fONT-0zjlfVN"
      },
      "source": [
        "import sys\n",
        "import pandas as pd\n",
        "import seaborn as sns\n",
        "import matplotlib.pyplot as plt\n",
        "import numpy as np\n",
        "\n",
        "\n",
        "import tensorflow as tf\n",
        "from tensorflow import keras\n",
        "from tensorflow.keras.utils import to_categorical"
      ],
      "execution_count": 4,
      "outputs": []
    },
    {
      "cell_type": "code",
      "metadata": {
        "colab": {
          "base_uri": "https://localhost:8080/"
        },
        "id": "lryVKjgywNoj",
        "outputId": "b0a6dc1a-f0d5-40b2-dce3-4f2d2ab423b7"
      },
      "source": [
        "from google.colab import drive\n",
        "drive.mount('/content/drive')"
      ],
      "execution_count": 5,
      "outputs": [
        {
          "output_type": "stream",
          "text": [
            "Drive already mounted at /content/drive; to attempt to forcibly remount, call drive.mount(\"/content/drive\", force_remount=True).\n"
          ],
          "name": "stdout"
        }
      ]
    },
    {
      "cell_type": "code",
      "metadata": {
        "colab": {
          "base_uri": "https://localhost:8080/"
        },
        "id": "uQdCQaODn3ev",
        "outputId": "02d1fe76-e70d-400e-b2f8-0329210906d3"
      },
      "source": [
        "BASE_PATH = '/content/drive/MyDrive/Colab Notebooks'\n",
        "sys.path.insert(0,BASE_PATH)\n",
        "\n",
        "FER2013_PATH_FILE_NAME = 'fer2013.csv'\n",
        "\n",
        "data = pd.read_csv(BASE_PATH + '/' + FER2013_PATH_FILE_NAME)\n",
        "\n",
        "print(data)\n"
      ],
      "execution_count": 6,
      "outputs": [
        {
          "output_type": "stream",
          "text": [
            "       emotion                                             pixels        Usage\n",
            "0            0  70 80 82 72 58 58 60 63 54 58 60 48 89 115 121...     Training\n",
            "1            0  151 150 147 155 148 133 111 140 170 174 182 15...     Training\n",
            "2            2  231 212 156 164 174 138 161 173 182 200 106 38...     Training\n",
            "3            4  24 32 36 30 32 23 19 20 30 41 21 22 32 34 21 1...     Training\n",
            "4            6  4 0 0 0 0 0 0 0 0 0 0 0 3 15 23 28 48 50 58 84...     Training\n",
            "...        ...                                                ...          ...\n",
            "35882        6  50 36 17 22 23 29 33 39 34 37 37 37 39 43 48 5...  PrivateTest\n",
            "35883        3  178 174 172 173 181 188 191 194 196 199 200 20...  PrivateTest\n",
            "35884        0  17 17 16 23 28 22 19 17 25 26 20 24 31 19 27 9...  PrivateTest\n",
            "35885        3  30 28 28 29 31 30 42 68 79 81 77 67 67 71 63 6...  PrivateTest\n",
            "35886        2  19 13 14 12 13 16 21 33 50 57 71 84 97 108 122...  PrivateTest\n",
            "\n",
            "[35887 rows x 3 columns]\n"
          ],
          "name": "stdout"
        }
      ]
    },
    {
      "cell_type": "code",
      "metadata": {
        "id": "NsN9UvP_kmgn"
      },
      "source": [
        "emotion_map = {0: 'Angry', 1: 'Digust', 2: 'Fear', 3: 'Happy', 4: 'Sad', 5: 'Surprise', 6: 'Neutral'}"
      ],
      "execution_count": 7,
      "outputs": []
    },
    {
      "cell_type": "markdown",
      "metadata": {
        "id": "gCKCy-DfkLHa"
      },
      "source": [
        "Visualizations on the data:\n",
        "\n",
        "1. Let's see the class distribution"
      ]
    },
    {
      "cell_type": "code",
      "metadata": {
        "colab": {
          "base_uri": "https://localhost:8080/",
          "height": 265
        },
        "id": "ZXgvEKIMkRH5",
        "outputId": "604440f1-496d-4ec6-d8cd-5dd0b68f6954"
      },
      "source": [
        "emotion_counts = data['emotion'].value_counts(sort=False).reset_index()\n",
        "emotion_counts.columns = ['emotion', 'number']\n",
        "emotion_counts['emotion'] = emotion_counts['emotion'].map(emotion_map)\n",
        "emotion_counts"
      ],
      "execution_count": 8,
      "outputs": [
        {
          "output_type": "execute_result",
          "data": {
            "text/html": [
              "<div>\n",
              "<style scoped>\n",
              "    .dataframe tbody tr th:only-of-type {\n",
              "        vertical-align: middle;\n",
              "    }\n",
              "\n",
              "    .dataframe tbody tr th {\n",
              "        vertical-align: top;\n",
              "    }\n",
              "\n",
              "    .dataframe thead th {\n",
              "        text-align: right;\n",
              "    }\n",
              "</style>\n",
              "<table border=\"1\" class=\"dataframe\">\n",
              "  <thead>\n",
              "    <tr style=\"text-align: right;\">\n",
              "      <th></th>\n",
              "      <th>emotion</th>\n",
              "      <th>number</th>\n",
              "    </tr>\n",
              "  </thead>\n",
              "  <tbody>\n",
              "    <tr>\n",
              "      <th>0</th>\n",
              "      <td>Angry</td>\n",
              "      <td>4953</td>\n",
              "    </tr>\n",
              "    <tr>\n",
              "      <th>1</th>\n",
              "      <td>Digust</td>\n",
              "      <td>547</td>\n",
              "    </tr>\n",
              "    <tr>\n",
              "      <th>2</th>\n",
              "      <td>Fear</td>\n",
              "      <td>5121</td>\n",
              "    </tr>\n",
              "    <tr>\n",
              "      <th>3</th>\n",
              "      <td>Happy</td>\n",
              "      <td>8989</td>\n",
              "    </tr>\n",
              "    <tr>\n",
              "      <th>4</th>\n",
              "      <td>Sad</td>\n",
              "      <td>6077</td>\n",
              "    </tr>\n",
              "    <tr>\n",
              "      <th>5</th>\n",
              "      <td>Surprise</td>\n",
              "      <td>4002</td>\n",
              "    </tr>\n",
              "    <tr>\n",
              "      <th>6</th>\n",
              "      <td>Neutral</td>\n",
              "      <td>6198</td>\n",
              "    </tr>\n",
              "  </tbody>\n",
              "</table>\n",
              "</div>"
            ],
            "text/plain": [
              "    emotion  number\n",
              "0     Angry    4953\n",
              "1    Digust     547\n",
              "2      Fear    5121\n",
              "3     Happy    8989\n",
              "4       Sad    6077\n",
              "5  Surprise    4002\n",
              "6   Neutral    6198"
            ]
          },
          "metadata": {
            "tags": []
          },
          "execution_count": 8
        }
      ]
    },
    {
      "cell_type": "markdown",
      "metadata": {
        "id": "s_nMC2s_n-CM"
      },
      "source": [
        "Plotting a bar graph with these values:"
      ]
    },
    {
      "cell_type": "code",
      "metadata": {
        "colab": {
          "base_uri": "https://localhost:8080/",
          "height": 349
        },
        "id": "EWUBOs4nn8kS",
        "outputId": "76902fae-9e5c-4b27-f4d7-55648c44984f"
      },
      "source": [
        "plt.figure(figsize=(6,4))\n",
        "sns.barplot(emotion_counts.emotion, emotion_counts.number)\n",
        "plt.title('Class Distribution')\n",
        "plt.ylabel('Number', fontsize=10)\n",
        "plt.xlabel('Emotion', fontsize=10)\n",
        "plt.show()"
      ],
      "execution_count": 9,
      "outputs": [
        {
          "output_type": "stream",
          "text": [
            "/usr/local/lib/python3.7/dist-packages/seaborn/_decorators.py:43: FutureWarning: Pass the following variables as keyword args: x, y. From version 0.12, the only valid positional argument will be `data`, and passing other arguments without an explicit keyword will result in an error or misinterpretation.\n",
            "  FutureWarning\n"
          ],
          "name": "stderr"
        },
        {
          "output_type": "display_data",
          "data": {
            "image/png": "[encoded data removed]",
            "text/plain": [
              "<Figure size 432x288 with 1 Axes>"
            ]
          },
          "metadata": {
            "tags": [],
            "needs_background": "light"
          }
        }
      ]
    },
    {
      "cell_type": "markdown",
      "metadata": {
        "id": "ck3zC0WOpeME"
      },
      "source": [
        "Plotting some sample images:"
      ]
    },
    {
      "cell_type": "code",
      "metadata": {
        "colab": {
          "base_uri": "https://localhost:8080/",
          "height": 810
        },
        "id": "DI1rVG7MpjoQ",
        "outputId": "50cc8b15-a9e9-4867-aefd-0b8568b401d3"
      },
      "source": [
        "def row2Image(row):\n",
        "  pixels, emotions = row['pixels'] , emotion_map[row['emotion']]\n",
        "  img = np.array(pixels.split())\n",
        "  img = img.reshape((48, 48))\n",
        "  image = np.zeros((48, 48, 3))\n",
        "  image[:,:, 0] = img\n",
        "  image[:,:, 1] = img\n",
        "  image[:,:, 2] = img\n",
        "  return np.array([image.astype(np.uint8), emotions])\n",
        "\n",
        "\n",
        "\n",
        "plt.figure(0, figsize=(16, 10))\n",
        "for i in range(1, 8):\n",
        "  face = data[data['emotion'] == i-1].iloc[0]\n",
        "  img = row2Image(face)\n",
        "  plt.subplot(2,4,i)\n",
        "  plt.imshow(img[0])\n",
        "  plt.title(img[1])\n",
        "\n",
        "plt.show()"
      ],
      "execution_count": 10,
      "outputs": [
        {
          "output_type": "stream",
          "text": [
            "/usr/local/lib/python3.7/dist-packages/ipykernel_launcher.py:9: VisibleDeprecationWarning: Creating an ndarray from ragged nested sequences (which is a list-or-tuple of lists-or-tuples-or ndarrays with different lengths or shapes) is deprecated. If you meant to do this, you must specify 'dtype=object' when creating the ndarray\n",
            "  if __name__ == '__main__':\n",
            "/usr/local/lib/python3.7/dist-packages/ipykernel_launcher.py:9: VisibleDeprecationWarning: Creating an ndarray from ragged nested sequences (which is a list-or-tuple of lists-or-tuples-or ndarrays with different lengths or shapes) is deprecated. If you meant to do this, you must specify 'dtype=object' when creating the ndarray\n",
            "  if __name__ == '__main__':\n",
            "/usr/local/lib/python3.7/dist-packages/ipykernel_launcher.py:9: VisibleDeprecationWarning: Creating an ndarray from ragged nested sequences (which is a list-or-tuple of lists-or-tuples-or ndarrays with different lengths or shapes) is deprecated. If you meant to do this, you must specify 'dtype=object' when creating the ndarray\n",
            "  if __name__ == '__main__':\n",
            "/usr/local/lib/python3.7/dist-packages/ipykernel_launcher.py:9: VisibleDeprecationWarning: Creating an ndarray from ragged nested sequences (which is a list-or-tuple of lists-or-tuples-or ndarrays with different lengths or shapes) is deprecated. If you meant to do this, you must specify 'dtype=object' when creating the ndarray\n",
            "  if __name__ == '__main__':\n",
            "/usr/local/lib/python3.7/dist-packages/ipykernel_launcher.py:9: VisibleDeprecationWarning: Creating an ndarray from ragged nested sequences (which is a list-or-tuple of lists-or-tuples-or ndarrays with different lengths or shapes) is deprecated. If you meant to do this, you must specify 'dtype=object' when creating the ndarray\n",
            "  if __name__ == '__main__':\n",
            "/usr/local/lib/python3.7/dist-packages/ipykernel_launcher.py:9: VisibleDeprecationWarning: Creating an ndarray from ragged nested sequences (which is a list-or-tuple of lists-or-tuples-or ndarrays with different lengths or shapes) is deprecated. If you meant to do this, you must specify 'dtype=object' when creating the ndarray\n",
            "  if __name__ == '__main__':\n",
            "/usr/local/lib/python3.7/dist-packages/ipykernel_launcher.py:9: VisibleDeprecationWarning: Creating an ndarray from ragged nested sequences (which is a list-or-tuple of lists-or-tuples-or ndarrays with different lengths or shapes) is deprecated. If you meant to do this, you must specify 'dtype=object' when creating the ndarray\n",
            "  if __name__ == '__main__':\n"
          ],
          "name": "stderr"
        },
        {
          "output_type": "display_data",
          "data": {
            "image/png": "[encoded data removed]",
            "text/plain": [
              "<Figure size 1152x720 with 7 Axes>"
            ]
          },
          "metadata": {
            "tags": [],
            "needs_background": "light"
          }
        }
      ]
    },
    {
      "cell_type": "markdown",
      "metadata": {
        "id": "PdH1wjABzNSU"
      },
      "source": [
        "Splitting data into train, test and validation sets:\n"
      ]
    },
    {
      "cell_type": "code",
      "metadata": {
        "colab": {
          "base_uri": "https://localhost:8080/"
        },
        "id": "qslc4y_6zYEs",
        "outputId": "d45bfbe1-8294-49fc-d297-8af9aa483c60"
      },
      "source": [
        "data_train = data[data['Usage'] == 'Training'].copy()\n",
        "data_val = data[data['Usage'] == 'PublicTest'].copy() \n",
        "data_test = data[data['Usage'] == 'PrivateTest'].copy()\n",
        "\n",
        "print(\"Train Shape: {}\\nTest Shape: {}\\nValidation Shape: {}\".format(data_train.shape, data_test.shape, data_val.shape));"
      ],
      "execution_count": 11,
      "outputs": [
        {
          "output_type": "stream",
          "text": [
            "Train Shape: (28709, 3)\n",
            "Test Shape: (3589, 3)\n",
            "Validation Shape: (3589, 3)\n"
          ],
          "name": "stdout"
        }
      ]
    },
    {
      "cell_type": "code",
      "metadata": {
        "colab": {
          "base_uri": "https://localhost:8080/",
          "height": 513
        },
        "id": "-Hk7b8eH4Z_o",
        "outputId": "9a17dbcf-e60c-4b9f-e59e-0d5a71aa293b"
      },
      "source": [
        "# barplot class distribution of train, val and test\n",
        "emotion_labels = ['Angry', 'Disgust', 'Fear', 'Happy', 'Sad', 'Surprise', 'Neutral']\n",
        "\n",
        "def setup_axe(axe,df,title):\n",
        "    df['emotion'].value_counts(sort=False).plot(ax=axe, kind='bar', rot=0)\n",
        "    axe.set_xticklabels(emotion_labels)\n",
        "    axe.set_xlabel(\"Emotions\")\n",
        "    axe.set_ylabel(\"Number\")\n",
        "    axe.set_title(title)\n",
        "   \n",
        "fig, axes = plt.subplots(1,3, figsize=(20,8), sharey=True)\n",
        "setup_axe(axes[0],data_train,'train')\n",
        "setup_axe(axes[1],data_val,'validation')\n",
        "setup_axe(axes[2],data_test,'test')\n",
        "plt.show()"
      ],
      "execution_count": 12,
      "outputs": [
        {
          "output_type": "display_data",
          "data": {
            "image/png": "[encoded data removed]",
            "text/plain": [
              "<Figure size 1440x576 with 3 Axes>"
            ]
          },
          "metadata": {
            "tags": [],
            "needs_background": "light"
          }
        }
      ]
    },
    {
      "cell_type": "code",
      "metadata": {
        "id": "GkQd0rSJ6NR1"
      },
      "source": [
        "#initilize parameters\n",
        "num_classes = 7 \n",
        "width, height = 48, 48\n",
        "num_epochs = 50\n",
        "batch_size = 64\n",
        "num_features = 64"
      ],
      "execution_count": 13,
      "outputs": []
    },
    {
      "cell_type": "code",
      "metadata": {
        "colab": {
          "base_uri": "https://localhost:8080/"
        },
        "id": "jMyNImyf6oBY",
        "outputId": "4150bd81-d3b1-480a-fa89-c3fc9af7078b"
      },
      "source": [
        "from skimage.transform import resize\n",
        "\n",
        "# Size of the images\n",
        "img_height, img_width = 197, 197\n",
        "\n",
        "#image preprocessing:\n",
        "def preprocess(df):\n",
        "  #Convert string to int\n",
        "  # df['pixels'] = df['pixels'].apply(lambda pixel_sequence: [int(pixel) for pixel in pixel_sequence.split()])\n",
        "  # #reshape and normalize\n",
        "  # data_X = np.array(df['pixels'].tolist(), dtype='float32').reshape(-1,width, height,1)\n",
        "  pixels = data['pixels'].tolist()\n",
        "  images = np.empty((len(data), 48, 48, 3))\n",
        "  i = 0\n",
        "  for pixel_sequence in pixels:\n",
        "        single_image = [float(pixel) for pixel in pixel_sequence.split(' ')]  # Extraction of each single\n",
        "        single_image = np.asarray(single_image).reshape(48, 48) # Dimension: 48x48\n",
        "        # single_image = resize(single_image, (img_height, img_width), order = 3, mode = 'constant') # Dimension: 139x139x3 (Bicubic)\n",
        "        ret = np.empty((48, 48, 3))  \n",
        "        ret[:, :, 0] = single_image\n",
        "        ret[:, :, 1] = single_image\n",
        "        ret[:, :, 2] = single_image\n",
        "        images[i, :, :, :] = ret\n",
        "        i += 1\n",
        "  # images = preprocess_input(images)\n",
        "  labels = to_categorical(data['emotion'], num_classes)\n",
        "  print(\"X shape: {},  Y shape: {}\".format(images.shape, labels.shape))\n",
        "  return images, labels    \n",
        "  # data_Y = df['emotion'] \n",
        "  # return data_X, data_Y\n",
        "\n",
        "print('Preprocessing Training Data...')\n",
        "data_train_X, data_train_Y = preprocess(data_train)\n",
        "print('Preprocessing Testing Data...')\n",
        "data_test_X, data_test_Y = preprocess(data_test)\n",
        "print('Preprocessing Validation Data...')\n",
        "data_val_X, data_val_Y = preprocess(data_val)\n"
      ],
      "execution_count": 16,
      "outputs": [
        {
          "output_type": "stream",
          "text": [
            "Preprocessing Training Data...\n",
            "X shape: (35887, 48, 48, 3),  Y shape: (35887, 7)\n",
            "Preprocessing Testing Data...\n",
            "X shape: (35887, 48, 48, 3),  Y shape: (35887, 7)\n",
            "Preprocessing Validation Data...\n",
            "X shape: (35887, 48, 48, 3),  Y shape: (35887, 7)\n"
          ],
          "name": "stdout"
        }
      ]
    },
    {
      "cell_type": "markdown",
      "metadata": {
        "id": "_snoAExpAZjM"
      },
      "source": [
        "Visualizing Data Augmentation"
      ]
    },
    {
      "cell_type": "code",
      "metadata": {
        "id": "8fGsluWN1Ons",
        "colab": {
          "base_uri": "https://localhost:8080/",
          "height": 518
        },
        "outputId": "734c06a5-2cf3-4c93-8dfa-b0f59c7f53bb"
      },
      "source": [
        "#Add some more data using augmentation\n",
        "from keras.preprocessing.image import ImageDataGenerator\n",
        "data_generator_test = ImageDataGenerator(\n",
        "                        width_shift_range=0.1,\n",
        "                        height_shift_range=0.1,\n",
        "                        zoom_range=-.1,\n",
        "                        horizontal_flip=True)\n",
        "\n",
        "fig = plt.figure()\n",
        "\n",
        "img = data_train_X[:1][0]\n",
        "# result = np.concatenate([img,img,img], axis = -1)\n",
        "plt.imshow(img.astype('uint8'))\n",
        "plt.show()\n",
        "\n",
        "data_generator_test.fit(data_train_X[:1])\n",
        "\n",
        "i=0\n",
        "for img_batch in data_generator_test.flow(data_train_X[:1], batch_size=4):\n",
        "    for image in img_batch:\n",
        "        plt.subplot(2, 2, i+1)\n",
        "        # result = np.concatenate([image,image,image], axis = -1)\n",
        "        plt.imshow(image.astype('uint8'))\n",
        "        i=i+1    \n",
        "    if i >= 4:\n",
        "          break\n",
        "    \n",
        "plt.show()\n"
      ],
      "execution_count": 19,
      "outputs": [
        {
          "output_type": "display_data",
          "data": {
            "image/png": "[encoded data removed]",
            "text/plain": [
              "<Figure size 432x288 with 1 Axes>"
            ]
          },
          "metadata": {
            "tags": [],
            "needs_background": "light"
          }
        },
        {
          "output_type": "display_data",
          "data": {
            "image/png": "[encoded data removed]",
            "text/plain": [
              "<Figure size 432x288 with 4 Axes>"
            ]
          },
          "metadata": {
            "tags": [],
            "needs_background": "light"
          }
        }
      ]
    },
    {
      "cell_type": "markdown",
      "metadata": {
        "id": "oTXY5JGsAy7M"
      },
      "source": [
        "Normalize the pixels\n"
      ]
    },
    {
      "cell_type": "code",
      "metadata": {
        "id": "1VKrBASmA1Ag"
      },
      "source": [
        "data_train_X /= 255\n",
        "data_val_X /= 255\n",
        "data_test_X /= 255"
      ],
      "execution_count": 20,
      "outputs": []
    },
    {
      "cell_type": "code",
      "metadata": {
        "id": "tdzQ7BEG4Aln",
        "colab": {
          "base_uri": "https://localhost:8080/"
        },
        "outputId": "c98171d1-344e-4360-d04a-a50097be6010"
      },
      "source": [
        "print(data_train_X[:1])\n",
        "print(data_train_Y[:5])\n"
      ],
      "execution_count": 21,
      "outputs": [
        {
          "output_type": "stream",
          "text": [
            "[[[[0.2745098  0.2745098  0.2745098 ]\n",
            "   [0.31372549 0.31372549 0.31372549]\n",
            "   [0.32156863 0.32156863 0.32156863]\n",
            "   ...\n",
            "   [0.20392157 0.20392157 0.20392157]\n",
            "   [0.16862745 0.16862745 0.16862745]\n",
            "   [0.16078431 0.16078431 0.16078431]]\n",
            "\n",
            "  [[0.25490196 0.25490196 0.25490196]\n",
            "   [0.23921569 0.23921569 0.23921569]\n",
            "   [0.22745098 0.22745098 0.22745098]\n",
            "   ...\n",
            "   [0.21960784 0.21960784 0.21960784]\n",
            "   [0.20392157 0.20392157 0.20392157]\n",
            "   [0.17254902 0.17254902 0.17254902]]\n",
            "\n",
            "  [[0.19607843 0.19607843 0.19607843]\n",
            "   [0.16862745 0.16862745 0.16862745]\n",
            "   [0.21176471 0.21176471 0.21176471]\n",
            "   ...\n",
            "   [0.19215686 0.19215686 0.19215686]\n",
            "   [0.21960784 0.21960784 0.21960784]\n",
            "   [0.18431373 0.18431373 0.18431373]]\n",
            "\n",
            "  ...\n",
            "\n",
            "  [[0.35686275 0.35686275 0.35686275]\n",
            "   [0.25490196 0.25490196 0.25490196]\n",
            "   [0.16470588 0.16470588 0.16470588]\n",
            "   ...\n",
            "   [0.28235294 0.28235294 0.28235294]\n",
            "   [0.21960784 0.21960784 0.21960784]\n",
            "   [0.16862745 0.16862745 0.16862745]]\n",
            "\n",
            "  [[0.30196078 0.30196078 0.30196078]\n",
            "   [0.32156863 0.32156863 0.32156863]\n",
            "   [0.30980392 0.30980392 0.30980392]\n",
            "   ...\n",
            "   [0.41176471 0.41176471 0.41176471]\n",
            "   [0.2745098  0.2745098  0.2745098 ]\n",
            "   [0.18039216 0.18039216 0.18039216]]\n",
            "\n",
            "  [[0.30196078 0.30196078 0.30196078]\n",
            "   [0.28235294 0.28235294 0.28235294]\n",
            "   [0.32941176 0.32941176 0.32941176]\n",
            "   ...\n",
            "   [0.41568627 0.41568627 0.41568627]\n",
            "   [0.42745098 0.42745098 0.42745098]\n",
            "   [0.32156863 0.32156863 0.32156863]]]]\n",
            "[[1. 0. 0. 0. 0. 0. 0.]\n",
            " [1. 0. 0. 0. 0. 0. 0.]\n",
            " [0. 0. 1. 0. 0. 0. 0.]\n",
            " [0. 0. 0. 0. 1. 0. 0.]\n",
            " [0. 0. 0. 0. 0. 0. 1.]]\n"
          ],
          "name": "stdout"
        }
      ]
    },
    {
      "cell_type": "code",
      "metadata": {
        "id": "MPGS-QPp474x"
      },
      "source": [
        "data_train_X[:2].shape"
      ],
      "execution_count": null,
      "outputs": []
    },
    {
      "cell_type": "markdown",
      "metadata": {
        "id": "7YTsWiUA5Bbc"
      },
      "source": [
        "Building a CNN Model:"
      ]
    },
    {
      "cell_type": "code",
      "metadata": {
        "id": "ugZa_eS75Dqu"
      },
      "source": [
        "from tensorflow.keras.models import *\n",
        "from tensorflow.keras.layers import Dense, Conv2D, Flatten,  MaxPooling2D, BatchNormalization, Activation #, Dropout\n",
        "from keras.optimizers import Adam, SGD\n",
        "from keras.callbacks import TensorBoard, LearningRateScheduler, ReduceLROnPlateau, EarlyStopping, Callback\n",
        "# from keras.regularizers import l2"
      ],
      "execution_count": 31,
      "outputs": []
    },
    {
      "cell_type": "code",
      "metadata": {
        "id": "5z3dOguT5mYb",
        "colab": {
          "base_uri": "https://localhost:8080/"
        },
        "outputId": "7ddd7b04-512b-4015-c74d-10d7111f8f80"
      },
      "source": [
        "#create model\n",
        "model = tf.keras.applications.ResNet50(\n",
        "    include_top=False,\n",
        "    weights=\"imagenet\",\n",
        "    input_tensor=None,\n",
        "    input_shape=(48, 48, 3),\n",
        "    pooling=\"max\"\n",
        ")\n",
        "# add new classifier layers\n",
        "x = model.output\n",
        "x =  Flatten()(x)\n",
        "x = Dense(1024, activation='relu')(x)\n",
        "predictions = Dense(num_classes, activation= 'softmax')(x)\n",
        "model = Model(inputs = model.input, outputs = predictions)\n",
        "\n",
        "# flat1 = Flatten()(model.layers[-1].output)\n",
        "# class1 = Dense(1024, activation='relu')(flat1)\n",
        "# output = Dense(7, activation='softmax')(class1)\n",
        "\n",
        "# define new model\n",
        "# model = Model(inputs=model.inputs, outputs=output)\n",
        "\n",
        "#model compile specifics\n",
        "model.compile(loss=tf.keras.losses.CategoricalCrossentropy(), \n",
        "              optimizer=SGD(learning_rate=0.001, momentum=0.0001),\n",
        "              metrics=['categorical_accuracy'])\n",
        "\n",
        "# This callback writes a log for TensorBoard, which allows you to visualize dynamic graphs of your training and test metrics, \n",
        "# tensorboard_all_layers = TensorBoard(\n",
        "#     log_dir         = BASE_PATH  + '/logs_all_layers',\n",
        "#     histogram_freq  = 0,\n",
        "#     write_graph     = True,\n",
        "#     write_grads     = False,\n",
        "#     write_images    = True)\n",
        "\n",
        "# early_stop = EarlyStopping(\n",
        "# \tmonitor \t= 'val_loss',\n",
        "# \tpatience \t= 10,\n",
        "# \tmode \t\t= 'auto')\n",
        "\n",
        "\n",
        "model.summary()"
      ],
      "execution_count": 34,
      "outputs": [
        {
          "output_type": "stream",
          "text": [
            "Model: \"model_1\"\n",
            "__________________________________________________________________________________________________\n",
            "Layer (type)                    Output Shape         Param #     Connected to                     \n",
            "==================================================================================================\n",
            "input_7 (InputLayer)            [(None, 48, 48, 3)]  0                                            \n",
            "__________________________________________________________________________________________________\n",
            "conv1_pad (ZeroPadding2D)       (None, 54, 54, 3)    0           input_7[0][0]                    \n",
            "__________________________________________________________________________________________________\n",
            "conv1_conv (Conv2D)             (None, 24, 24, 64)   9472        conv1_pad[0][0]                  \n",
            "__________________________________________________________________________________________________\n",
            "conv1_bn (BatchNormalization)   (None, 24, 24, 64)   256         conv1_conv[0][0]                 \n",
            "__________________________________________________________________________________________________\n",
            "conv1_relu (Activation)         (None, 24, 24, 64)   0           conv1_bn[0][0]                   \n",
            "__________________________________________________________________________________________________\n",
            "pool1_pad (ZeroPadding2D)       (None, 26, 26, 64)   0           conv1_relu[0][0]                 \n",
            "__________________________________________________________________________________________________\n",
            "pool1_pool (MaxPooling2D)       (None, 12, 12, 64)   0           pool1_pad[0][0]                  \n",
            "__________________________________________________________________________________________________\n",
            "conv2_block1_1_conv (Conv2D)    (None, 12, 12, 64)   4160        pool1_pool[0][0]                 \n",
            "__________________________________________________________________________________________________\n",
            "conv2_block1_1_bn (BatchNormali (None, 12, 12, 64)   256         conv2_block1_1_conv[0][0]        \n",
            "__________________________________________________________________________________________________\n",
            "conv2_block1_1_relu (Activation (None, 12, 12, 64)   0           conv2_block1_1_bn[0][0]          \n",
            "__________________________________________________________________________________________________\n",
            "conv2_block1_2_conv (Conv2D)    (None, 12, 12, 64)   36928       conv2_block1_1_relu[0][0]        \n",
            "__________________________________________________________________________________________________\n",
            "conv2_block1_2_bn (BatchNormali (None, 12, 12, 64)   256         conv2_block1_2_conv[0][0]        \n",
            "__________________________________________________________________________________________________\n",
            "conv2_block1_2_relu (Activation (None, 12, 12, 64)   0           conv2_block1_2_bn[0][0]          \n",
            "__________________________________________________________________________________________________\n",
            "conv2_block1_0_conv (Conv2D)    (None, 12, 12, 256)  16640       pool1_pool[0][0]                 \n",
            "__________________________________________________________________________________________________\n",
            "conv2_block1_3_conv (Conv2D)    (None, 12, 12, 256)  16640       conv2_block1_2_relu[0][0]        \n",
            "__________________________________________________________________________________________________\n",
            "conv2_block1_0_bn (BatchNormali (None, 12, 12, 256)  1024        conv2_block1_0_conv[0][0]        \n",
            "__________________________________________________________________________________________________\n",
            "conv2_block1_3_bn (BatchNormali (None, 12, 12, 256)  1024        conv2_block1_3_conv[0][0]        \n",
            "__________________________________________________________________________________________________\n",
            "conv2_block1_add (Add)          (None, 12, 12, 256)  0           conv2_block1_0_bn[0][0]          \n",
            "                                                                 conv2_block1_3_bn[0][0]          \n",
            "__________________________________________________________________________________________________\n",
            "conv2_block1_out (Activation)   (None, 12, 12, 256)  0           conv2_block1_add[0][0]           \n",
            "__________________________________________________________________________________________________\n",
            "conv2_block2_1_conv (Conv2D)    (None, 12, 12, 64)   16448       conv2_block1_out[0][0]           \n",
            "__________________________________________________________________________________________________\n",
            "conv2_block2_1_bn (BatchNormali (None, 12, 12, 64)   256         conv2_block2_1_conv[0][0]        \n",
            "__________________________________________________________________________________________________\n",
            "conv2_block2_1_relu (Activation (None, 12, 12, 64)   0           conv2_block2_1_bn[0][0]          \n",
            "__________________________________________________________________________________________________\n",
            "conv2_block2_2_conv (Conv2D)    (None, 12, 12, 64)   36928       conv2_block2_1_relu[0][0]        \n",
            "__________________________________________________________________________________________________\n",
            "conv2_block2_2_bn (BatchNormali (None, 12, 12, 64)   256         conv2_block2_2_conv[0][0]        \n",
            "__________________________________________________________________________________________________\n",
            "conv2_block2_2_relu (Activation (None, 12, 12, 64)   0           conv2_block2_2_bn[0][0]          \n",
            "__________________________________________________________________________________________________\n",
            "conv2_block2_3_conv (Conv2D)    (None, 12, 12, 256)  16640       conv2_block2_2_relu[0][0]        \n",
            "__________________________________________________________________________________________________\n",
            "conv2_block2_3_bn (BatchNormali (None, 12, 12, 256)  1024        conv2_block2_3_conv[0][0]        \n",
            "__________________________________________________________________________________________________\n",
            "conv2_block2_add (Add)          (None, 12, 12, 256)  0           conv2_block1_out[0][0]           \n",
            "                                                                 conv2_block2_3_bn[0][0]          \n",
            "__________________________________________________________________________________________________\n",
            "conv2_block2_out (Activation)   (None, 12, 12, 256)  0           conv2_block2_add[0][0]           \n",
            "__________________________________________________________________________________________________\n",
            "conv2_block3_1_conv (Conv2D)    (None, 12, 12, 64)   16448       conv2_block2_out[0][0]           \n",
            "__________________________________________________________________________________________________\n",
            "conv2_block3_1_bn (BatchNormali (None, 12, 12, 64)   256         conv2_block3_1_conv[0][0]        \n",
            "__________________________________________________________________________________________________\n",
            "conv2_block3_1_relu (Activation (None, 12, 12, 64)   0           conv2_block3_1_bn[0][0]          \n",
            "__________________________________________________________________________________________________\n",
            "conv2_block3_2_conv (Conv2D)    (None, 12, 12, 64)   36928       conv2_block3_1_relu[0][0]        \n",
            "__________________________________________________________________________________________________\n",
            "conv2_block3_2_bn (BatchNormali (None, 12, 12, 64)   256         conv2_block3_2_conv[0][0]        \n",
            "__________________________________________________________________________________________________\n",
            "conv2_block3_2_relu (Activation (None, 12, 12, 64)   0           conv2_block3_2_bn[0][0]          \n",
            "__________________________________________________________________________________________________\n",
            "conv2_block3_3_conv (Conv2D)    (None, 12, 12, 256)  16640       conv2_block3_2_relu[0][0]        \n",
            "__________________________________________________________________________________________________\n",
            "conv2_block3_3_bn (BatchNormali (None, 12, 12, 256)  1024        conv2_block3_3_conv[0][0]        \n",
            "__________________________________________________________________________________________________\n",
            "conv2_block3_add (Add)          (None, 12, 12, 256)  0           conv2_block2_out[0][0]           \n",
            "                                                                 conv2_block3_3_bn[0][0]          \n",
            "__________________________________________________________________________________________________\n",
            "conv2_block3_out (Activation)   (None, 12, 12, 256)  0           conv2_block3_add[0][0]           \n",
            "__________________________________________________________________________________________________\n",
            "conv3_block1_1_conv (Conv2D)    (None, 6, 6, 128)    32896       conv2_block3_out[0][0]           \n",
            "__________________________________________________________________________________________________\n",
            "conv3_block1_1_bn (BatchNormali (None, 6, 6, 128)    512         conv3_block1_1_conv[0][0]        \n",
            "__________________________________________________________________________________________________\n",
            "conv3_block1_1_relu (Activation (None, 6, 6, 128)    0           conv3_block1_1_bn[0][0]          \n",
            "__________________________________________________________________________________________________\n",
            "conv3_block1_2_conv (Conv2D)    (None, 6, 6, 128)    147584      conv3_block1_1_relu[0][0]        \n",
            "__________________________________________________________________________________________________\n",
            "conv3_block1_2_bn (BatchNormali (None, 6, 6, 128)    512         conv3_block1_2_conv[0][0]        \n",
            "__________________________________________________________________________________________________\n",
            "conv3_block1_2_relu (Activation (None, 6, 6, 128)    0           conv3_block1_2_bn[0][0]          \n",
            "__________________________________________________________________________________________________\n",
            "conv3_block1_0_conv (Conv2D)    (None, 6, 6, 512)    131584      conv2_block3_out[0][0]           \n",
            "__________________________________________________________________________________________________\n",
            "conv3_block1_3_conv (Conv2D)    (None, 6, 6, 512)    66048       conv3_block1_2_relu[0][0]        \n",
            "__________________________________________________________________________________________________\n",
            "conv3_block1_0_bn (BatchNormali (None, 6, 6, 512)    2048        conv3_block1_0_conv[0][0]        \n",
            "__________________________________________________________________________________________________\n",
            "conv3_block1_3_bn (BatchNormali (None, 6, 6, 512)    2048        conv3_block1_3_conv[0][0]        \n",
            "__________________________________________________________________________________________________\n",
            "conv3_block1_add (Add)          (None, 6, 6, 512)    0           conv3_block1_0_bn[0][0]          \n",
            "                                                                 conv3_block1_3_bn[0][0]          \n",
            "__________________________________________________________________________________________________\n",
            "conv3_block1_out (Activation)   (None, 6, 6, 512)    0           conv3_block1_add[0][0]           \n",
            "__________________________________________________________________________________________________\n",
            "conv3_block2_1_conv (Conv2D)    (None, 6, 6, 128)    65664       conv3_block1_out[0][0]           \n",
            "__________________________________________________________________________________________________\n",
            "conv3_block2_1_bn (BatchNormali (None, 6, 6, 128)    512         conv3_block2_1_conv[0][0]        \n",
            "__________________________________________________________________________________________________\n",
            "conv3_block2_1_relu (Activation (None, 6, 6, 128)    0           conv3_block2_1_bn[0][0]          \n",
            "__________________________________________________________________________________________________\n",
            "conv3_block2_2_conv (Conv2D)    (None, 6, 6, 128)    147584      conv3_block2_1_relu[0][0]        \n",
            "__________________________________________________________________________________________________\n",
            "conv3_block2_2_bn (BatchNormali (None, 6, 6, 128)    512         conv3_block2_2_conv[0][0]        \n",
            "__________________________________________________________________________________________________\n",
            "conv3_block2_2_relu (Activation (None, 6, 6, 128)    0           conv3_block2_2_bn[0][0]          \n",
            "__________________________________________________________________________________________________\n",
            "conv3_block2_3_conv (Conv2D)    (None, 6, 6, 512)    66048       conv3_block2_2_relu[0][0]        \n",
            "__________________________________________________________________________________________________\n",
            "conv3_block2_3_bn (BatchNormali (None, 6, 6, 512)    2048        conv3_block2_3_conv[0][0]        \n",
            "__________________________________________________________________________________________________\n",
            "conv3_block2_add (Add)          (None, 6, 6, 512)    0           conv3_block1_out[0][0]           \n",
            "                                                                 conv3_block2_3_bn[0][0]          \n",
            "__________________________________________________________________________________________________\n",
            "conv3_block2_out (Activation)   (None, 6, 6, 512)    0           conv3_block2_add[0][0]           \n",
            "__________________________________________________________________________________________________\n",
            "conv3_block3_1_conv (Conv2D)    (None, 6, 6, 128)    65664       conv3_block2_out[0][0]           \n",
            "__________________________________________________________________________________________________\n",
            "conv3_block3_1_bn (BatchNormali (None, 6, 6, 128)    512         conv3_block3_1_conv[0][0]        \n",
            "__________________________________________________________________________________________________\n",
            "conv3_block3_1_relu (Activation (None, 6, 6, 128)    0           conv3_block3_1_bn[0][0]          \n",
            "__________________________________________________________________________________________________\n",
            "conv3_block3_2_conv (Conv2D)    (None, 6, 6, 128)    147584      conv3_block3_1_relu[0][0]        \n",
            "__________________________________________________________________________________________________\n",
            "conv3_block3_2_bn (BatchNormali (None, 6, 6, 128)    512         conv3_block3_2_conv[0][0]        \n",
            "__________________________________________________________________________________________________\n",
            "conv3_block3_2_relu (Activation (None, 6, 6, 128)    0           conv3_block3_2_bn[0][0]          \n",
            "__________________________________________________________________________________________________\n",
            "conv3_block3_3_conv (Conv2D)    (None, 6, 6, 512)    66048       conv3_block3_2_relu[0][0]        \n",
            "__________________________________________________________________________________________________\n",
            "conv3_block3_3_bn (BatchNormali (None, 6, 6, 512)    2048        conv3_block3_3_conv[0][0]        \n",
            "__________________________________________________________________________________________________\n",
            "conv3_block3_add (Add)          (None, 6, 6, 512)    0           conv3_block2_out[0][0]           \n",
            "                                                                 conv3_block3_3_bn[0][0]          \n",
            "__________________________________________________________________________________________________\n",
            "conv3_block3_out (Activation)   (None, 6, 6, 512)    0           conv3_block3_add[0][0]           \n",
            "__________________________________________________________________________________________________\n",
            "conv3_block4_1_conv (Conv2D)    (None, 6, 6, 128)    65664       conv3_block3_out[0][0]           \n",
            "__________________________________________________________________________________________________\n",
            "conv3_block4_1_bn (BatchNormali (None, 6, 6, 128)    512         conv3_block4_1_conv[0][0]        \n",
            "__________________________________________________________________________________________________\n",
            "conv3_block4_1_relu (Activation (None, 6, 6, 128)    0           conv3_block4_1_bn[0][0]          \n",
            "__________________________________________________________________________________________________\n",
            "conv3_block4_2_conv (Conv2D)    (None, 6, 6, 128)    147584      conv3_block4_1_relu[0][0]        \n",
            "__________________________________________________________________________________________________\n",
            "conv3_block4_2_bn (BatchNormali (None, 6, 6, 128)    512         conv3_block4_2_conv[0][0]        \n",
            "__________________________________________________________________________________________________\n",
            "conv3_block4_2_relu (Activation (None, 6, 6, 128)    0           conv3_block4_2_bn[0][0]          \n",
            "__________________________________________________________________________________________________\n",
            "conv3_block4_3_conv (Conv2D)    (None, 6, 6, 512)    66048       conv3_block4_2_relu[0][0]        \n",
            "__________________________________________________________________________________________________\n",
            "conv3_block4_3_bn (BatchNormali (None, 6, 6, 512)    2048        conv3_block4_3_conv[0][0]        \n",
            "__________________________________________________________________________________________________\n",
            "conv3_block4_add (Add)          (None, 6, 6, 512)    0           conv3_block3_out[0][0]           \n",
            "                                                                 conv3_block4_3_bn[0][0]          \n",
            "__________________________________________________________________________________________________\n",
            "conv3_block4_out (Activation)   (None, 6, 6, 512)    0           conv3_block4_add[0][0]           \n",
            "__________________________________________________________________________________________________\n",
            "conv4_block1_1_conv (Conv2D)    (None, 3, 3, 256)    131328      conv3_block4_out[0][0]           \n",
            "__________________________________________________________________________________________________\n",
            "conv4_block1_1_bn (BatchNormali (None, 3, 3, 256)    1024        conv4_block1_1_conv[0][0]        \n",
            "__________________________________________________________________________________________________\n",
            "conv4_block1_1_relu (Activation (None, 3, 3, 256)    0           conv4_block1_1_bn[0][0]          \n",
            "__________________________________________________________________________________________________\n",
            "conv4_block1_2_conv (Conv2D)    (None, 3, 3, 256)    590080      conv4_block1_1_relu[0][0]        \n",
            "__________________________________________________________________________________________________\n",
            "conv4_block1_2_bn (BatchNormali (None, 3, 3, 256)    1024        conv4_block1_2_conv[0][0]        \n",
            "__________________________________________________________________________________________________\n",
            "conv4_block1_2_relu (Activation (None, 3, 3, 256)    0           conv4_block1_2_bn[0][0]          \n",
            "__________________________________________________________________________________________________\n",
            "conv4_block1_0_conv (Conv2D)    (None, 3, 3, 1024)   525312      conv3_block4_out[0][0]           \n",
            "__________________________________________________________________________________________________\n",
            "conv4_block1_3_conv (Conv2D)    (None, 3, 3, 1024)   263168      conv4_block1_2_relu[0][0]        \n",
            "__________________________________________________________________________________________________\n",
            "conv4_block1_0_bn (BatchNormali (None, 3, 3, 1024)   4096        conv4_block1_0_conv[0][0]        \n",
            "__________________________________________________________________________________________________\n",
            "conv4_block1_3_bn (BatchNormali (None, 3, 3, 1024)   4096        conv4_block1_3_conv[0][0]        \n",
            "__________________________________________________________________________________________________\n",
            "conv4_block1_add (Add)          (None, 3, 3, 1024)   0           conv4_block1_0_bn[0][0]          \n",
            "                                                                 conv4_block1_3_bn[0][0]          \n",
            "__________________________________________________________________________________________________\n",
            "conv4_block1_out (Activation)   (None, 3, 3, 1024)   0           conv4_block1_add[0][0]           \n",
            "__________________________________________________________________________________________________\n",
            "conv4_block2_1_conv (Conv2D)    (None, 3, 3, 256)    262400      conv4_block1_out[0][0]           \n",
            "__________________________________________________________________________________________________\n",
            "conv4_block2_1_bn (BatchNormali (None, 3, 3, 256)    1024        conv4_block2_1_conv[0][0]        \n",
            "__________________________________________________________________________________________________\n",
            "conv4_block2_1_relu (Activation (None, 3, 3, 256)    0           conv4_block2_1_bn[0][0]          \n",
            "__________________________________________________________________________________________________\n",
            "conv4_block2_2_conv (Conv2D)    (None, 3, 3, 256)    590080      conv4_block2_1_relu[0][0]        \n",
            "__________________________________________________________________________________________________\n",
            "conv4_block2_2_bn (BatchNormali (None, 3, 3, 256)    1024        conv4_block2_2_conv[0][0]        \n",
            "__________________________________________________________________________________________________\n",
            "conv4_block2_2_relu (Activation (None, 3, 3, 256)    0           conv4_block2_2_bn[0][0]          \n",
            "__________________________________________________________________________________________________\n",
            "conv4_block2_3_conv (Conv2D)    (None, 3, 3, 1024)   263168      conv4_block2_2_relu[0][0]        \n",
            "__________________________________________________________________________________________________\n",
            "conv4_block2_3_bn (BatchNormali (None, 3, 3, 1024)   4096        conv4_block2_3_conv[0][0]        \n",
            "__________________________________________________________________________________________________\n",
            "conv4_block2_add (Add)          (None, 3, 3, 1024)   0           conv4_block1_out[0][0]           \n",
            "                                                                 conv4_block2_3_bn[0][0]          \n",
            "__________________________________________________________________________________________________\n",
            "conv4_block2_out (Activation)   (None, 3, 3, 1024)   0           conv4_block2_add[0][0]           \n",
            "__________________________________________________________________________________________________\n",
            "conv4_block3_1_conv (Conv2D)    (None, 3, 3, 256)    262400      conv4_block2_out[0][0]           \n",
            "__________________________________________________________________________________________________\n",
            "conv4_block3_1_bn (BatchNormali (None, 3, 3, 256)    1024        conv4_block3_1_conv[0][0]        \n",
            "__________________________________________________________________________________________________\n",
            "conv4_block3_1_relu (Activation (None, 3, 3, 256)    0           conv4_block3_1_bn[0][0]          \n",
            "__________________________________________________________________________________________________\n",
            "conv4_block3_2_conv (Conv2D)    (None, 3, 3, 256)    590080      conv4_block3_1_relu[0][0]        \n",
            "__________________________________________________________________________________________________\n",
            "conv4_block3_2_bn (BatchNormali (None, 3, 3, 256)    1024        conv4_block3_2_conv[0][0]        \n",
            "__________________________________________________________________________________________________\n",
            "conv4_block3_2_relu (Activation (None, 3, 3, 256)    0           conv4_block3_2_bn[0][0]          \n",
            "__________________________________________________________________________________________________\n",
            "conv4_block3_3_conv (Conv2D)    (None, 3, 3, 1024)   263168      conv4_block3_2_relu[0][0]        \n",
            "__________________________________________________________________________________________________\n",
            "conv4_block3_3_bn (BatchNormali (None, 3, 3, 1024)   4096        conv4_block3_3_conv[0][0]        \n",
            "__________________________________________________________________________________________________\n",
            "conv4_block3_add (Add)          (None, 3, 3, 1024)   0           conv4_block2_out[0][0]           \n",
            "                                                                 conv4_block3_3_bn[0][0]          \n",
            "__________________________________________________________________________________________________\n",
            "conv4_block3_out (Activation)   (None, 3, 3, 1024)   0           conv4_block3_add[0][0]           \n",
            "__________________________________________________________________________________________________\n",
            "conv4_block4_1_conv (Conv2D)    (None, 3, 3, 256)    262400      conv4_block3_out[0][0]           \n",
            "__________________________________________________________________________________________________\n",
            "conv4_block4_1_bn (BatchNormali (None, 3, 3, 256)    1024        conv4_block4_1_conv[0][0]        \n",
            "__________________________________________________________________________________________________\n",
            "conv4_block4_1_relu (Activation (None, 3, 3, 256)    0           conv4_block4_1_bn[0][0]          \n",
            "__________________________________________________________________________________________________\n",
            "conv4_block4_2_conv (Conv2D)    (None, 3, 3, 256)    590080      conv4_block4_1_relu[0][0]        \n",
            "__________________________________________________________________________________________________\n",
            "conv4_block4_2_bn (BatchNormali (None, 3, 3, 256)    1024        conv4_block4_2_conv[0][0]        \n",
            "__________________________________________________________________________________________________\n",
            "conv4_block4_2_relu (Activation (None, 3, 3, 256)    0           conv4_block4_2_bn[0][0]          \n",
            "__________________________________________________________________________________________________\n",
            "conv4_block4_3_conv (Conv2D)    (None, 3, 3, 1024)   263168      conv4_block4_2_relu[0][0]        \n",
            "__________________________________________________________________________________________________\n",
            "conv4_block4_3_bn (BatchNormali (None, 3, 3, 1024)   4096        conv4_block4_3_conv[0][0]        \n",
            "__________________________________________________________________________________________________\n",
            "conv4_block4_add (Add)          (None, 3, 3, 1024)   0           conv4_block3_out[0][0]           \n",
            "                                                                 conv4_block4_3_bn[0][0]          \n",
            "__________________________________________________________________________________________________\n",
            "conv4_block4_out (Activation)   (None, 3, 3, 1024)   0           conv4_block4_add[0][0]           \n",
            "__________________________________________________________________________________________________\n",
            "conv4_block5_1_conv (Conv2D)    (None, 3, 3, 256)    262400      conv4_block4_out[0][0]           \n",
            "__________________________________________________________________________________________________\n",
            "conv4_block5_1_bn (BatchNormali (None, 3, 3, 256)    1024        conv4_block5_1_conv[0][0]        \n",
            "__________________________________________________________________________________________________\n",
            "conv4_block5_1_relu (Activation (None, 3, 3, 256)    0           conv4_block5_1_bn[0][0]          \n",
            "__________________________________________________________________________________________________\n",
            "conv4_block5_2_conv (Conv2D)    (None, 3, 3, 256)    590080      conv4_block5_1_relu[0][0]        \n",
            "__________________________________________________________________________________________________\n",
            "conv4_block5_2_bn (BatchNormali (None, 3, 3, 256)    1024        conv4_block5_2_conv[0][0]        \n",
            "__________________________________________________________________________________________________\n",
            "conv4_block5_2_relu (Activation (None, 3, 3, 256)    0           conv4_block5_2_bn[0][0]          \n",
            "__________________________________________________________________________________________________\n",
            "conv4_block5_3_conv (Conv2D)    (None, 3, 3, 1024)   263168      conv4_block5_2_relu[0][0]        \n",
            "__________________________________________________________________________________________________\n",
            "conv4_block5_3_bn (BatchNormali (None, 3, 3, 1024)   4096        conv4_block5_3_conv[0][0]        \n",
            "__________________________________________________________________________________________________\n",
            "conv4_block5_add (Add)          (None, 3, 3, 1024)   0           conv4_block4_out[0][0]           \n",
            "                                                                 conv4_block5_3_bn[0][0]          \n",
            "__________________________________________________________________________________________________\n",
            "conv4_block5_out (Activation)   (None, 3, 3, 1024)   0           conv4_block5_add[0][0]           \n",
            "__________________________________________________________________________________________________\n",
            "conv4_block6_1_conv (Conv2D)    (None, 3, 3, 256)    262400      conv4_block5_out[0][0]           \n",
            "__________________________________________________________________________________________________\n",
            "conv4_block6_1_bn (BatchNormali (None, 3, 3, 256)    1024        conv4_block6_1_conv[0][0]        \n",
            "__________________________________________________________________________________________________\n",
            "conv4_block6_1_relu (Activation (None, 3, 3, 256)    0           conv4_block6_1_bn[0][0]          \n",
            "__________________________________________________________________________________________________\n",
            "conv4_block6_2_conv (Conv2D)    (None, 3, 3, 256)    590080      conv4_block6_1_relu[0][0]        \n",
            "__________________________________________________________________________________________________\n",
            "conv4_block6_2_bn (BatchNormali (None, 3, 3, 256)    1024        conv4_block6_2_conv[0][0]        \n",
            "__________________________________________________________________________________________________\n",
            "conv4_block6_2_relu (Activation (None, 3, 3, 256)    0           conv4_block6_2_bn[0][0]          \n",
            "__________________________________________________________________________________________________\n",
            "conv4_block6_3_conv (Conv2D)    (None, 3, 3, 1024)   263168      conv4_block6_2_relu[0][0]        \n",
            "__________________________________________________________________________________________________\n",
            "conv4_block6_3_bn (BatchNormali (None, 3, 3, 1024)   4096        conv4_block6_3_conv[0][0]        \n",
            "__________________________________________________________________________________________________\n",
            "conv4_block6_add (Add)          (None, 3, 3, 1024)   0           conv4_block5_out[0][0]           \n",
            "                                                                 conv4_block6_3_bn[0][0]          \n",
            "__________________________________________________________________________________________________\n",
            "conv4_block6_out (Activation)   (None, 3, 3, 1024)   0           conv4_block6_add[0][0]           \n",
            "__________________________________________________________________________________________________\n",
            "conv5_block1_1_conv (Conv2D)    (None, 2, 2, 512)    524800      conv4_block6_out[0][0]           \n",
            "__________________________________________________________________________________________________\n",
            "conv5_block1_1_bn (BatchNormali (None, 2, 2, 512)    2048        conv5_block1_1_conv[0][0]        \n",
            "__________________________________________________________________________________________________\n",
            "conv5_block1_1_relu (Activation (None, 2, 2, 512)    0           conv5_block1_1_bn[0][0]          \n",
            "__________________________________________________________________________________________________\n",
            "conv5_block1_2_conv (Conv2D)    (None, 2, 2, 512)    2359808     conv5_block1_1_relu[0][0]        \n",
            "__________________________________________________________________________________________________\n",
            "conv5_block1_2_bn (BatchNormali (None, 2, 2, 512)    2048        conv5_block1_2_conv[0][0]        \n",
            "__________________________________________________________________________________________________\n",
            "conv5_block1_2_relu (Activation (None, 2, 2, 512)    0           conv5_block1_2_bn[0][0]          \n",
            "__________________________________________________________________________________________________\n",
            "conv5_block1_0_conv (Conv2D)    (None, 2, 2, 2048)   2099200     conv4_block6_out[0][0]           \n",
            "__________________________________________________________________________________________________\n",
            "conv5_block1_3_conv (Conv2D)    (None, 2, 2, 2048)   1050624     conv5_block1_2_relu[0][0]        \n",
            "__________________________________________________________________________________________________\n",
            "conv5_block1_0_bn (BatchNormali (None, 2, 2, 2048)   8192        conv5_block1_0_conv[0][0]        \n",
            "__________________________________________________________________________________________________\n",
            "conv5_block1_3_bn (BatchNormali (None, 2, 2, 2048)   8192        conv5_block1_3_conv[0][0]        \n",
            "__________________________________________________________________________________________________\n",
            "conv5_block1_add (Add)          (None, 2, 2, 2048)   0           conv5_block1_0_bn[0][0]          \n",
            "                                                                 conv5_block1_3_bn[0][0]          \n",
            "__________________________________________________________________________________________________\n",
            "conv5_block1_out (Activation)   (None, 2, 2, 2048)   0           conv5_block1_add[0][0]           \n",
            "__________________________________________________________________________________________________\n",
            "conv5_block2_1_conv (Conv2D)    (None, 2, 2, 512)    1049088     conv5_block1_out[0][0]           \n",
            "__________________________________________________________________________________________________\n",
            "conv5_block2_1_bn (BatchNormali (None, 2, 2, 512)    2048        conv5_block2_1_conv[0][0]        \n",
            "__________________________________________________________________________________________________\n",
            "conv5_block2_1_relu (Activation (None, 2, 2, 512)    0           conv5_block2_1_bn[0][0]          \n",
            "__________________________________________________________________________________________________\n",
            "conv5_block2_2_conv (Conv2D)    (None, 2, 2, 512)    2359808     conv5_block2_1_relu[0][0]        \n",
            "__________________________________________________________________________________________________\n",
            "conv5_block2_2_bn (BatchNormali (None, 2, 2, 512)    2048        conv5_block2_2_conv[0][0]        \n",
            "__________________________________________________________________________________________________\n",
            "conv5_block2_2_relu (Activation (None, 2, 2, 512)    0           conv5_block2_2_bn[0][0]          \n",
            "__________________________________________________________________________________________________\n",
            "conv5_block2_3_conv (Conv2D)    (None, 2, 2, 2048)   1050624     conv5_block2_2_relu[0][0]        \n",
            "__________________________________________________________________________________________________\n",
            "conv5_block2_3_bn (BatchNormali (None, 2, 2, 2048)   8192        conv5_block2_3_conv[0][0]        \n",
            "__________________________________________________________________________________________________\n",
            "conv5_block2_add (Add)          (None, 2, 2, 2048)   0           conv5_block1_out[0][0]           \n",
            "                                                                 conv5_block2_3_bn[0][0]          \n",
            "__________________________________________________________________________________________________\n",
            "conv5_block2_out (Activation)   (None, 2, 2, 2048)   0           conv5_block2_add[0][0]           \n",
            "__________________________________________________________________________________________________\n",
            "conv5_block3_1_conv (Conv2D)    (None, 2, 2, 512)    1049088     conv5_block2_out[0][0]           \n",
            "__________________________________________________________________________________________________\n",
            "conv5_block3_1_bn (BatchNormali (None, 2, 2, 512)    2048        conv5_block3_1_conv[0][0]        \n",
            "__________________________________________________________________________________________________\n",
            "conv5_block3_1_relu (Activation (None, 2, 2, 512)    0           conv5_block3_1_bn[0][0]          \n",
            "__________________________________________________________________________________________________\n",
            "conv5_block3_2_conv (Conv2D)    (None, 2, 2, 512)    2359808     conv5_block3_1_relu[0][0]        \n",
            "__________________________________________________________________________________________________\n",
            "conv5_block3_2_bn (BatchNormali (None, 2, 2, 512)    2048        conv5_block3_2_conv[0][0]        \n",
            "__________________________________________________________________________________________________\n",
            "conv5_block3_2_relu (Activation (None, 2, 2, 512)    0           conv5_block3_2_bn[0][0]          \n",
            "__________________________________________________________________________________________________\n",
            "conv5_block3_3_conv (Conv2D)    (None, 2, 2, 2048)   1050624     conv5_block3_2_relu[0][0]        \n",
            "__________________________________________________________________________________________________\n",
            "conv5_block3_3_bn (BatchNormali (None, 2, 2, 2048)   8192        conv5_block3_3_conv[0][0]        \n",
            "__________________________________________________________________________________________________\n",
            "conv5_block3_add (Add)          (None, 2, 2, 2048)   0           conv5_block2_out[0][0]           \n",
            "                                                                 conv5_block3_3_bn[0][0]          \n",
            "__________________________________________________________________________________________________\n",
            "conv5_block3_out (Activation)   (None, 2, 2, 2048)   0           conv5_block3_add[0][0]           \n",
            "__________________________________________________________________________________________________\n",
            "max_pool (GlobalMaxPooling2D)   (None, 2048)         0           conv5_block3_out[0][0]           \n",
            "__________________________________________________________________________________________________\n",
            "flatten_3 (Flatten)             (None, 2048)         0           max_pool[0][0]                   \n",
            "__________________________________________________________________________________________________\n",
            "dense_6 (Dense)                 (None, 1024)         2098176     flatten_3[0][0]                  \n",
            "__________________________________________________________________________________________________\n",
            "dense_7 (Dense)                 (None, 7)            7175        dense_6[0][0]                    \n",
            "==================================================================================================\n",
            "Total params: 25,693,063\n",
            "Trainable params: 25,639,943\n",
            "Non-trainable params: 53,120\n",
            "__________________________________________________________________________________________________\n"
          ],
          "name": "stdout"
        }
      ]
    },
    {
      "cell_type": "code",
      "metadata": {
        "id": "UMbvTjpSEduG"
      },
      "source": [
        "len(data_train_X)"
      ],
      "execution_count": null,
      "outputs": []
    },
    {
      "cell_type": "code",
      "metadata": {
        "id": "c8IufPRebEDR"
      },
      "source": [
        "data_generator = ImageDataGenerator(\n",
        "                        width_shift_range=0.1,\n",
        "                        height_shift_range=0.1,\n",
        "                        zoom_range=-.1,\n",
        "                        horizontal_flip=True)"
      ],
      "execution_count": 35,
      "outputs": []
    },
    {
      "cell_type": "code",
      "metadata": {
        "id": "Ji7VTq3ZX11B"
      },
      "source": [
        "# from sklearn.model_selection import StratifiedKFold\n",
        "# num_folds = 10\n",
        "# # Define per-fold score containers <-- these are new\n",
        "# acc_per_fold = []\n",
        "# loss_per_fold = []\n",
        "# # Merge inputs and targets\n",
        "# inputs = np.concatenate((data_train_X, data_val_X), axis=0)\n",
        "# targets = np.concatenate((data_train_Y, data_val_Y), axis=0)\n",
        "# # Define the K-fold Cross Validator\n",
        "# kfold = StratifiedKFold(n_splits=num_folds, shuffle=True)\n",
        "\n",
        "# fold_no = 1\n",
        "# for train, test in kfold.split(inputs, targets):\n",
        "#   targets = to_categorical(targets, num_classes) \n",
        "#   #create model\n",
        "#   model = tf.keras.applications.ResNet50(\n",
        "#       include_top=True,\n",
        "#       weights=None,\n",
        "#       input_tensor=None,\n",
        "#       input_shape=(48, 48, 1),\n",
        "#       pooling=\"max\",\n",
        "#       classes=7\n",
        "#   )\n",
        "\n",
        "#   #model compile specifics\n",
        "#   model.compile(loss=tf.keras.losses.CategoricalCrossentropy(), \n",
        "#                 optimizer=SGD(learning_rate=0.01, momentum=0.0001),\n",
        "#                 metrics=['categorical_accuracy'])\n",
        "\n",
        "#   #Train the model\n",
        "#   history = model.fit(data_generator.flow(inputs[train], targets[train], batch_size), \n",
        "#                     batch_size=batch_size,\n",
        "#                     shuffle=True,\n",
        "#                     steps_per_epoch=len(data_train_X) / batch_size,\n",
        "#                     # validation_data=(data_val_X, data_val_Y),\n",
        "#                     epochs=50)\n",
        "  \n",
        "#   # Generate generalization metrics\n",
        "#   scores = model.evaluate(inputs[test], targets[test], verbose=0)\n",
        "#   print(f'Score for fold {fold_no}: {model.metrics_names[0]} of {scores[0]}; {model.metrics_names[1]} of {scores[1]*100}%')\n",
        "#   acc_per_fold.append(scores[1] * 100)\n",
        "#   loss_per_fold.append(scores[0])\n",
        "\n",
        "#   # Increase fold number\n",
        "#   fold_no = fold_no + 1\n",
        "\n",
        "# == Provide average scores ==\n",
        "# print('------------------------------------------------------------------------')\n",
        "# print('Score per fold')\n",
        "# for i in range(0, len(acc_per_fold)):\n",
        "#   print('------------------------------------------------------------------------')\n",
        "#   print(f'> Fold {i+1} - Loss: {loss_per_fold[i]} - Accuracy: {acc_per_fold[i]}%')\n",
        "# print('------------------------------------------------------------------------')\n",
        "# print('Average scores for all folds:')\n",
        "# print(f'> Accuracy: {np.mean(acc_per_fold)} (+- {np.std(acc_per_fold)})')\n",
        "# print(f'> Loss: {np.mean(loss_per_fold)}')\n",
        "# print('------------------------------------------------------------------------')"
      ],
      "execution_count": null,
      "outputs": []
    },
    {
      "cell_type": "code",
      "metadata": {
        "id": "4N6dziABh9nP",
        "colab": {
          "base_uri": "https://localhost:8080/"
        },
        "outputId": "5dc8960b-2d3c-49d0-e85a-3ffb2ddd0d69"
      },
      "source": [
        "data_generator = ImageDataGenerator(\n",
        "                        width_shift_range=0.1,\n",
        "                        height_shift_range=0.1,\n",
        "                        zoom_range=-.1,\n",
        "                        horizontal_flip=True)\n",
        "\n",
        "path_model=BASE_PATH + '/fer_model_resnet'\n",
        "\n",
        "# #Train the model\n",
        "history = model.fit(data_generator.flow(data_train_X, data_train_Y, batch_size), \n",
        "                    batch_size=batch_size,\n",
        "                    shuffle=True,\n",
        "                    steps_per_epoch=len(data_train_X) / batch_size,\n",
        "                    validation_data=(data_val_X, data_val_Y),\n",
        "                    epochs=50)\n",
        "\n",
        "model.save(path_model)"
      ],
      "execution_count": 36,
      "outputs": [
        {
          "output_type": "stream",
          "text": [
            "Epoch 1/50\n",
            "560/560 [==============================] - 59s 71ms/step - loss: 2.0817 - categorical_accuracy: 0.2832 - val_loss: 19.6350 - val_categorical_accuracy: 0.1741\n",
            "Epoch 2/50\n",
            "560/560 [==============================] - 39s 69ms/step - loss: 1.6668 - categorical_accuracy: 0.3666 - val_loss: 1.7608 - val_categorical_accuracy: 0.3883\n",
            "Epoch 3/50\n",
            "560/560 [==============================] - 38s 68ms/step - loss: 1.5553 - categorical_accuracy: 0.4086 - val_loss: 1.5156 - val_categorical_accuracy: 0.4497\n",
            "Epoch 4/50\n",
            "560/560 [==============================] - 39s 69ms/step - loss: 1.4842 - categorical_accuracy: 0.4333 - val_loss: 1.4630 - val_categorical_accuracy: 0.4731\n",
            "Epoch 5/50\n",
            "560/560 [==============================] - 38s 68ms/step - loss: 1.4304 - categorical_accuracy: 0.4539 - val_loss: 1.4492 - val_categorical_accuracy: 0.4902\n",
            "Epoch 6/50\n",
            "560/560 [==============================] - 39s 69ms/step - loss: 1.3921 - categorical_accuracy: 0.4699 - val_loss: 1.3995 - val_categorical_accuracy: 0.5085\n",
            "Epoch 7/50\n",
            "560/560 [==============================] - 38s 68ms/step - loss: 1.3577 - categorical_accuracy: 0.4849 - val_loss: 1.3715 - val_categorical_accuracy: 0.5200\n",
            "Epoch 8/50\n",
            "560/560 [==============================] - 39s 69ms/step - loss: 1.3219 - categorical_accuracy: 0.4958 - val_loss: 1.3428 - val_categorical_accuracy: 0.5321\n",
            "Epoch 9/50\n",
            "560/560 [==============================] - 38s 69ms/step - loss: 1.2925 - categorical_accuracy: 0.5107 - val_loss: 1.2730 - val_categorical_accuracy: 0.5432\n",
            "Epoch 10/50\n",
            "560/560 [==============================] - 38s 68ms/step - loss: 1.2673 - categorical_accuracy: 0.5192 - val_loss: 1.2980 - val_categorical_accuracy: 0.5524\n",
            "Epoch 11/50\n",
            "560/560 [==============================] - 39s 69ms/step - loss: 1.2452 - categorical_accuracy: 0.5249 - val_loss: 1.2047 - val_categorical_accuracy: 0.5622\n",
            "Epoch 12/50\n",
            "560/560 [==============================] - 38s 68ms/step - loss: 1.2255 - categorical_accuracy: 0.5342 - val_loss: 1.1811 - val_categorical_accuracy: 0.5718\n",
            "Epoch 13/50\n",
            "560/560 [==============================] - 39s 69ms/step - loss: 1.2008 - categorical_accuracy: 0.5443 - val_loss: 1.1705 - val_categorical_accuracy: 0.5718\n",
            "Epoch 14/50\n",
            "560/560 [==============================] - 39s 69ms/step - loss: 1.1839 - categorical_accuracy: 0.5535 - val_loss: 1.1230 - val_categorical_accuracy: 0.5844\n",
            "Epoch 15/50\n",
            "560/560 [==============================] - 38s 69ms/step - loss: 1.1731 - categorical_accuracy: 0.5548 - val_loss: 1.0938 - val_categorical_accuracy: 0.5935\n",
            "Epoch 16/50\n",
            "560/560 [==============================] - 38s 68ms/step - loss: 1.1536 - categorical_accuracy: 0.5668 - val_loss: 1.1004 - val_categorical_accuracy: 0.6002\n",
            "Epoch 17/50\n",
            "560/560 [==============================] - 39s 69ms/step - loss: 1.1443 - categorical_accuracy: 0.5699 - val_loss: 1.0700 - val_categorical_accuracy: 0.6072\n",
            "Epoch 18/50\n",
            "560/560 [==============================] - 38s 68ms/step - loss: 1.1232 - categorical_accuracy: 0.5769 - val_loss: 1.0600 - val_categorical_accuracy: 0.6109\n",
            "Epoch 19/50\n",
            "560/560 [==============================] - 39s 69ms/step - loss: 1.1172 - categorical_accuracy: 0.5789 - val_loss: 1.0235 - val_categorical_accuracy: 0.6181\n",
            "Epoch 20/50\n",
            "560/560 [==============================] - 38s 68ms/step - loss: 1.0938 - categorical_accuracy: 0.5869 - val_loss: 1.0205 - val_categorical_accuracy: 0.6195\n",
            "Epoch 21/50\n",
            "560/560 [==============================] - 39s 69ms/step - loss: 1.0887 - categorical_accuracy: 0.5894 - val_loss: 1.0015 - val_categorical_accuracy: 0.6274\n",
            "Epoch 22/50\n",
            "560/560 [==============================] - 38s 68ms/step - loss: 1.0763 - categorical_accuracy: 0.5941 - val_loss: 0.9834 - val_categorical_accuracy: 0.6344\n",
            "Epoch 23/50\n",
            "560/560 [==============================] - 39s 69ms/step - loss: 1.0592 - categorical_accuracy: 0.6014 - val_loss: 0.9807 - val_categorical_accuracy: 0.6351\n",
            "Epoch 24/50\n",
            "560/560 [==============================] - 38s 68ms/step - loss: 1.0486 - categorical_accuracy: 0.6075 - val_loss: 0.9573 - val_categorical_accuracy: 0.6437\n",
            "Epoch 25/50\n",
            "560/560 [==============================] - 39s 69ms/step - loss: 1.0417 - categorical_accuracy: 0.6079 - val_loss: 0.9435 - val_categorical_accuracy: 0.6491\n",
            "Epoch 26/50\n",
            "560/560 [==============================] - 38s 68ms/step - loss: 1.0263 - categorical_accuracy: 0.6158 - val_loss: 0.9505 - val_categorical_accuracy: 0.6494\n",
            "Epoch 27/50\n",
            "560/560 [==============================] - 38s 68ms/step - loss: 1.0150 - categorical_accuracy: 0.6193 - val_loss: 0.9483 - val_categorical_accuracy: 0.6580\n",
            "Epoch 28/50\n",
            "560/560 [==============================] - 38s 68ms/step - loss: 1.0011 - categorical_accuracy: 0.6273 - val_loss: 0.9208 - val_categorical_accuracy: 0.6668\n",
            "Epoch 29/50\n",
            "560/560 [==============================] - 39s 69ms/step - loss: 0.9954 - categorical_accuracy: 0.6290 - val_loss: 0.9021 - val_categorical_accuracy: 0.6686\n",
            "Epoch 30/50\n",
            "560/560 [==============================] - 38s 68ms/step - loss: 0.9847 - categorical_accuracy: 0.6332 - val_loss: 0.8877 - val_categorical_accuracy: 0.6739\n",
            "Epoch 31/50\n",
            "560/560 [==============================] - 39s 69ms/step - loss: 0.9742 - categorical_accuracy: 0.6363 - val_loss: 0.8784 - val_categorical_accuracy: 0.6755\n",
            "Epoch 32/50\n",
            "560/560 [==============================] - 38s 68ms/step - loss: 0.9696 - categorical_accuracy: 0.6374 - val_loss: 0.8785 - val_categorical_accuracy: 0.6782\n",
            "Epoch 33/50\n",
            "560/560 [==============================] - 39s 69ms/step - loss: 0.9597 - categorical_accuracy: 0.6416 - val_loss: 0.8719 - val_categorical_accuracy: 0.6842\n",
            "Epoch 34/50\n",
            "560/560 [==============================] - 38s 68ms/step - loss: 0.9358 - categorical_accuracy: 0.6511 - val_loss: 0.8422 - val_categorical_accuracy: 0.6914\n",
            "Epoch 35/50\n",
            "560/560 [==============================] - 38s 68ms/step - loss: 0.9325 - categorical_accuracy: 0.6487 - val_loss: 0.8297 - val_categorical_accuracy: 0.6955\n",
            "Epoch 36/50\n",
            "560/560 [==============================] - 39s 69ms/step - loss: 0.9264 - categorical_accuracy: 0.6570 - val_loss: 0.8252 - val_categorical_accuracy: 0.6992\n",
            "Epoch 37/50\n",
            "560/560 [==============================] - 38s 68ms/step - loss: 0.9122 - categorical_accuracy: 0.6598 - val_loss: 0.8238 - val_categorical_accuracy: 0.7046\n",
            "Epoch 38/50\n",
            "560/560 [==============================] - 39s 69ms/step - loss: 0.9041 - categorical_accuracy: 0.6636 - val_loss: 0.8299 - val_categorical_accuracy: 0.7038\n",
            "Epoch 39/50\n",
            "560/560 [==============================] - 38s 68ms/step - loss: 0.8941 - categorical_accuracy: 0.6713 - val_loss: 0.8443 - val_categorical_accuracy: 0.7084\n",
            "Epoch 40/50\n",
            "560/560 [==============================] - 38s 69ms/step - loss: 0.8842 - categorical_accuracy: 0.6711 - val_loss: 0.7870 - val_categorical_accuracy: 0.7199\n",
            "Epoch 41/50\n",
            "560/560 [==============================] - 38s 68ms/step - loss: 0.8728 - categorical_accuracy: 0.6756 - val_loss: 0.7758 - val_categorical_accuracy: 0.7191\n",
            "Epoch 42/50\n",
            "560/560 [==============================] - 39s 69ms/step - loss: 0.8699 - categorical_accuracy: 0.6772 - val_loss: 0.7584 - val_categorical_accuracy: 0.7304\n",
            "Epoch 43/50\n",
            "560/560 [==============================] - 38s 68ms/step - loss: 0.8570 - categorical_accuracy: 0.6845 - val_loss: 0.7486 - val_categorical_accuracy: 0.7331\n",
            "Epoch 44/50\n",
            "560/560 [==============================] - 39s 69ms/step - loss: 0.8512 - categorical_accuracy: 0.6840 - val_loss: 0.7445 - val_categorical_accuracy: 0.7367\n",
            "Epoch 45/50\n",
            "560/560 [==============================] - 38s 68ms/step - loss: 0.8381 - categorical_accuracy: 0.6928 - val_loss: 0.7680 - val_categorical_accuracy: 0.7258\n",
            "Epoch 46/50\n",
            "560/560 [==============================] - 39s 69ms/step - loss: 0.8327 - categorical_accuracy: 0.6913 - val_loss: 0.7199 - val_categorical_accuracy: 0.7437\n",
            "Epoch 47/50\n",
            "560/560 [==============================] - 38s 68ms/step - loss: 0.8179 - categorical_accuracy: 0.6982 - val_loss: 0.7137 - val_categorical_accuracy: 0.7503\n",
            "Epoch 48/50\n",
            "560/560 [==============================] - 39s 69ms/step - loss: 0.8135 - categorical_accuracy: 0.7049 - val_loss: 0.7657 - val_categorical_accuracy: 0.7259\n",
            "Epoch 49/50\n",
            "560/560 [==============================] - 38s 68ms/step - loss: 0.8028 - categorical_accuracy: 0.7044 - val_loss: 0.6950 - val_categorical_accuracy: 0.7536\n",
            "Epoch 50/50\n",
            "560/560 [==============================] - 39s 69ms/step - loss: 0.7902 - categorical_accuracy: 0.7098 - val_loss: 0.6854 - val_categorical_accuracy: 0.7554\n"
          ],
          "name": "stdout"
        },
        {
          "output_type": "stream",
          "text": [
            "/usr/local/lib/python3.7/dist-packages/tensorflow/python/keras/utils/generic_utils.py:497: CustomMaskWarning: Custom mask layers require a config and must override get_config. When loading, the custom mask layer must be passed to the custom_objects argument.\n",
            "  category=CustomMaskWarning)\n"
          ],
          "name": "stderr"
        },
        {
          "output_type": "stream",
          "text": [
            "INFO:tensorflow:Assets written to: /content/drive/MyDrive/Colab Notebooks/fer_model_resnet/assets\n"
          ],
          "name": "stdout"
        }
      ]
    },
    {
      "cell_type": "markdown",
      "metadata": {
        "id": "jWGTJdUvHc0Z"
      },
      "source": [
        "Visualizing Training Accuracy"
      ]
    },
    {
      "cell_type": "code",
      "metadata": {
        "id": "DWRRsaOqHcWX",
        "colab": {
          "base_uri": "https://localhost:8080/",
          "height": 404
        },
        "outputId": "6112424d-8b70-4874-955c-fc68d7bb16be"
      },
      "source": [
        "fig, axes = plt.subplots(1,2, figsize=(18, 6))\n",
        "# Plot training & validation accuracy values\n",
        "axes[0].plot(history.history['categorical_accuracy'])\n",
        "axes[0].plot(history.history['val_categorical_accuracy'])\n",
        "axes[0].set_title('Model accuracy')\n",
        "axes[0].set_ylabel('Accuracy')\n",
        "axes[0].set_xlabel('Epoch')\n",
        "axes[0].legend(['Train', 'Validation'], loc='upper left')\n",
        "\n",
        "# Plot training & validation loss values\n",
        "axes[1].plot(history.history['loss'])\n",
        "axes[1].plot(history.history['val_loss'])\n",
        "axes[1].set_title('Model loss')\n",
        "axes[1].set_ylabel('Loss')\n",
        "axes[1].set_xlabel('Epoch')\n",
        "axes[1].legend(['Train', 'Validation'], loc='upper left')\n",
        "plt.show()"
      ],
      "execution_count": 37,
      "outputs": [
        {
          "output_type": "display_data",
          "data": {
            "image/png": "[encoded data removed]",
            "text/plain": [
              "<Figure size 1296x432 with 2 Axes>"
            ]
          },
          "metadata": {
            "tags": [],
            "needs_background": "light"
          }
        }
      ]
    },
    {
      "cell_type": "code",
      "metadata": {
        "id": "p2bpxgX0Wc3S",
        "colab": {
          "base_uri": "https://localhost:8080/"
        },
        "outputId": "d10ba571-40ea-448a-a637-1e97998a0089"
      },
      "source": [
        "score = model.evaluate(data_test_X, data_test_Y, verbose=0)\n",
        "print(f'Test loss: {score[0]} / Test accuracy: {score[1]}')"
      ],
      "execution_count": 38,
      "outputs": [
        {
          "output_type": "stream",
          "text": [
            "Test loss: 0.6854161620140076 / Test accuracy: 0.7553710341453552\n"
          ],
          "name": "stdout"
        }
      ]
    }
  ]
}